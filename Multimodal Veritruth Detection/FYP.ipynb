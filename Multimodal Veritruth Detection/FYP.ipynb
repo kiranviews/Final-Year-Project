{
 "cells": [
  {
   "cell_type": "code",
   "execution_count": 1,
   "id": "485b8f07",
   "metadata": {},
   "outputs": [],
   "source": [
    "import pandas as pd\n",
    "import numpy as np\n",
    "import seaborn as sns\n",
    "import matplotlib.pyplot as plt\n",
    "from sklearn.model_selection import train_test_split\n",
    "from sklearn.metrics import accuracy_score\n",
    "from sklearn.metrics import classification_report\n",
    "import re\n",
    "import string"
   ]
  },
  {
   "cell_type": "code",
   "execution_count": 2,
   "id": "eda738a2",
   "metadata": {},
   "outputs": [
    {
     "data": {
      "text/html": [
       "<div>\n",
       "<style scoped>\n",
       "    .dataframe tbody tr th:only-of-type {\n",
       "        vertical-align: middle;\n",
       "    }\n",
       "\n",
       "    .dataframe tbody tr th {\n",
       "        vertical-align: top;\n",
       "    }\n",
       "\n",
       "    .dataframe thead th {\n",
       "        text-align: right;\n",
       "    }\n",
       "</style>\n",
       "<table border=\"1\" class=\"dataframe\">\n",
       "  <thead>\n",
       "    <tr style=\"text-align: right;\">\n",
       "      <th></th>\n",
       "      <th>title</th>\n",
       "      <th>text</th>\n",
       "      <th>subject</th>\n",
       "      <th>date</th>\n",
       "    </tr>\n",
       "  </thead>\n",
       "  <tbody>\n",
       "    <tr>\n",
       "      <th>0</th>\n",
       "      <td>Donald Trump Sends Out Embarrassing New Year’...</td>\n",
       "      <td>Donald Trump just couldn t wish all Americans ...</td>\n",
       "      <td>News</td>\n",
       "      <td>December 31, 2017</td>\n",
       "    </tr>\n",
       "    <tr>\n",
       "      <th>1</th>\n",
       "      <td>Drunk Bragging Trump Staffer Started Russian ...</td>\n",
       "      <td>House Intelligence Committee Chairman Devin Nu...</td>\n",
       "      <td>News</td>\n",
       "      <td>December 31, 2017</td>\n",
       "    </tr>\n",
       "    <tr>\n",
       "      <th>2</th>\n",
       "      <td>Sheriff David Clarke Becomes An Internet Joke...</td>\n",
       "      <td>On Friday, it was revealed that former Milwauk...</td>\n",
       "      <td>News</td>\n",
       "      <td>December 30, 2017</td>\n",
       "    </tr>\n",
       "    <tr>\n",
       "      <th>3</th>\n",
       "      <td>Trump Is So Obsessed He Even Has Obama’s Name...</td>\n",
       "      <td>On Christmas day, Donald Trump announced that ...</td>\n",
       "      <td>News</td>\n",
       "      <td>December 29, 2017</td>\n",
       "    </tr>\n",
       "    <tr>\n",
       "      <th>4</th>\n",
       "      <td>Pope Francis Just Called Out Donald Trump Dur...</td>\n",
       "      <td>Pope Francis used his annual Christmas Day mes...</td>\n",
       "      <td>News</td>\n",
       "      <td>December 25, 2017</td>\n",
       "    </tr>\n",
       "  </tbody>\n",
       "</table>\n",
       "</div>"
      ],
      "text/plain": [
       "                                               title  \\\n",
       "0   Donald Trump Sends Out Embarrassing New Year’...   \n",
       "1   Drunk Bragging Trump Staffer Started Russian ...   \n",
       "2   Sheriff David Clarke Becomes An Internet Joke...   \n",
       "3   Trump Is So Obsessed He Even Has Obama’s Name...   \n",
       "4   Pope Francis Just Called Out Donald Trump Dur...   \n",
       "\n",
       "                                                text subject  \\\n",
       "0  Donald Trump just couldn t wish all Americans ...    News   \n",
       "1  House Intelligence Committee Chairman Devin Nu...    News   \n",
       "2  On Friday, it was revealed that former Milwauk...    News   \n",
       "3  On Christmas day, Donald Trump announced that ...    News   \n",
       "4  Pope Francis used his annual Christmas Day mes...    News   \n",
       "\n",
       "                date  \n",
       "0  December 31, 2017  \n",
       "1  December 31, 2017  \n",
       "2  December 30, 2017  \n",
       "3  December 29, 2017  \n",
       "4  December 25, 2017  "
      ]
     },
     "execution_count": 2,
     "metadata": {},
     "output_type": "execute_result"
    }
   ],
   "source": [
    "fake_df = pd.read_csv(\"Fake.csv\")\n",
    "true_df = pd.read_csv(\"True.csv\")\n",
    "\n",
    "fake_df.head()"
   ]
  },
  {
   "cell_type": "code",
   "execution_count": 3,
   "id": "846e2c6e",
   "metadata": {},
   "outputs": [
    {
     "data": {
      "text/html": [
       "<div>\n",
       "<style scoped>\n",
       "    .dataframe tbody tr th:only-of-type {\n",
       "        vertical-align: middle;\n",
       "    }\n",
       "\n",
       "    .dataframe tbody tr th {\n",
       "        vertical-align: top;\n",
       "    }\n",
       "\n",
       "    .dataframe thead th {\n",
       "        text-align: right;\n",
       "    }\n",
       "</style>\n",
       "<table border=\"1\" class=\"dataframe\">\n",
       "  <thead>\n",
       "    <tr style=\"text-align: right;\">\n",
       "      <th></th>\n",
       "      <th>title</th>\n",
       "      <th>text</th>\n",
       "      <th>subject</th>\n",
       "      <th>date</th>\n",
       "    </tr>\n",
       "  </thead>\n",
       "  <tbody>\n",
       "    <tr>\n",
       "      <th>0</th>\n",
       "      <td>As U.S. budget fight looms, Republicans flip t...</td>\n",
       "      <td>WASHINGTON (Reuters) - The head of a conservat...</td>\n",
       "      <td>politicsNews</td>\n",
       "      <td>December 31, 2017</td>\n",
       "    </tr>\n",
       "    <tr>\n",
       "      <th>1</th>\n",
       "      <td>U.S. military to accept transgender recruits o...</td>\n",
       "      <td>WASHINGTON (Reuters) - Transgender people will...</td>\n",
       "      <td>politicsNews</td>\n",
       "      <td>December 29, 2017</td>\n",
       "    </tr>\n",
       "    <tr>\n",
       "      <th>2</th>\n",
       "      <td>Senior U.S. Republican senator: 'Let Mr. Muell...</td>\n",
       "      <td>WASHINGTON (Reuters) - The special counsel inv...</td>\n",
       "      <td>politicsNews</td>\n",
       "      <td>December 31, 2017</td>\n",
       "    </tr>\n",
       "    <tr>\n",
       "      <th>3</th>\n",
       "      <td>FBI Russia probe helped by Australian diplomat...</td>\n",
       "      <td>WASHINGTON (Reuters) - Trump campaign adviser ...</td>\n",
       "      <td>politicsNews</td>\n",
       "      <td>December 30, 2017</td>\n",
       "    </tr>\n",
       "    <tr>\n",
       "      <th>4</th>\n",
       "      <td>Trump wants Postal Service to charge 'much mor...</td>\n",
       "      <td>SEATTLE/WASHINGTON (Reuters) - President Donal...</td>\n",
       "      <td>politicsNews</td>\n",
       "      <td>December 29, 2017</td>\n",
       "    </tr>\n",
       "  </tbody>\n",
       "</table>\n",
       "</div>"
      ],
      "text/plain": [
       "                                               title  \\\n",
       "0  As U.S. budget fight looms, Republicans flip t...   \n",
       "1  U.S. military to accept transgender recruits o...   \n",
       "2  Senior U.S. Republican senator: 'Let Mr. Muell...   \n",
       "3  FBI Russia probe helped by Australian diplomat...   \n",
       "4  Trump wants Postal Service to charge 'much mor...   \n",
       "\n",
       "                                                text       subject  \\\n",
       "0  WASHINGTON (Reuters) - The head of a conservat...  politicsNews   \n",
       "1  WASHINGTON (Reuters) - Transgender people will...  politicsNews   \n",
       "2  WASHINGTON (Reuters) - The special counsel inv...  politicsNews   \n",
       "3  WASHINGTON (Reuters) - Trump campaign adviser ...  politicsNews   \n",
       "4  SEATTLE/WASHINGTON (Reuters) - President Donal...  politicsNews   \n",
       "\n",
       "                 date  \n",
       "0  December 31, 2017   \n",
       "1  December 29, 2017   \n",
       "2  December 31, 2017   \n",
       "3  December 30, 2017   \n",
       "4  December 29, 2017   "
      ]
     },
     "execution_count": 3,
     "metadata": {},
     "output_type": "execute_result"
    }
   ],
   "source": [
    "true_df.head()"
   ]
  },
  {
   "cell_type": "code",
   "execution_count": 4,
   "id": "2c8bafe3",
   "metadata": {},
   "outputs": [],
   "source": [
    "fake_df[\"class\"] = 0\n",
    "true_df[\"class\"] = 1"
   ]
  },
  {
   "cell_type": "code",
   "execution_count": 5,
   "id": "629e324d",
   "metadata": {},
   "outputs": [],
   "source": [
    "fake_df_manual_testing = fake_df.tail(10)\n",
    "for i in range(23480,23470,-1):\n",
    "    fake_df.drop([i], axis=0, inplace = True)\n",
    "    \n",
    "true_df_manual_testing = true_df.tail(10)\n",
    "for i in range(21416,21406,-1):\n",
    "    true_df.drop([i], axis=0, inplace = True)"
   ]
  },
  {
   "cell_type": "code",
   "execution_count": 6,
   "id": "55d4b020",
   "metadata": {},
   "outputs": [
    {
     "name": "stderr",
     "output_type": "stream",
     "text": [
      "C:\\Users\\akash\\AppData\\Local\\Temp\\ipykernel_16680\\1573991052.py:1: SettingWithCopyWarning: \n",
      "A value is trying to be set on a copy of a slice from a DataFrame.\n",
      "Try using .loc[row_indexer,col_indexer] = value instead\n",
      "\n",
      "See the caveats in the documentation: https://pandas.pydata.org/pandas-docs/stable/user_guide/indexing.html#returning-a-view-versus-a-copy\n",
      "  fake_df_manual_testing['class'] = 0\n",
      "C:\\Users\\akash\\AppData\\Local\\Temp\\ipykernel_16680\\1573991052.py:2: SettingWithCopyWarning: \n",
      "A value is trying to be set on a copy of a slice from a DataFrame.\n",
      "Try using .loc[row_indexer,col_indexer] = value instead\n",
      "\n",
      "See the caveats in the documentation: https://pandas.pydata.org/pandas-docs/stable/user_guide/indexing.html#returning-a-view-versus-a-copy\n",
      "  true_df_manual_testing['class'] = 1\n"
     ]
    }
   ],
   "source": [
    "fake_df_manual_testing['class'] = 0\n",
    "true_df_manual_testing['class'] = 1"
   ]
  },
  {
   "cell_type": "code",
   "execution_count": 7,
   "id": "43d9d289",
   "metadata": {},
   "outputs": [
    {
     "data": {
      "text/html": [
       "<div>\n",
       "<style scoped>\n",
       "    .dataframe tbody tr th:only-of-type {\n",
       "        vertical-align: middle;\n",
       "    }\n",
       "\n",
       "    .dataframe tbody tr th {\n",
       "        vertical-align: top;\n",
       "    }\n",
       "\n",
       "    .dataframe thead th {\n",
       "        text-align: right;\n",
       "    }\n",
       "</style>\n",
       "<table border=\"1\" class=\"dataframe\">\n",
       "  <thead>\n",
       "    <tr style=\"text-align: right;\">\n",
       "      <th></th>\n",
       "      <th>title</th>\n",
       "      <th>text</th>\n",
       "      <th>subject</th>\n",
       "      <th>date</th>\n",
       "      <th>class</th>\n",
       "    </tr>\n",
       "  </thead>\n",
       "  <tbody>\n",
       "    <tr>\n",
       "      <th>23471</th>\n",
       "      <td>Seven Iranians freed in the prisoner swap have...</td>\n",
       "      <td>21st Century Wire says This week, the historic...</td>\n",
       "      <td>Middle-east</td>\n",
       "      <td>January 20, 2016</td>\n",
       "      <td>0</td>\n",
       "    </tr>\n",
       "    <tr>\n",
       "      <th>23472</th>\n",
       "      <td>#Hashtag Hell &amp; The Fake Left</td>\n",
       "      <td>By Dady Chery and Gilbert MercierAll writers ...</td>\n",
       "      <td>Middle-east</td>\n",
       "      <td>January 19, 2016</td>\n",
       "      <td>0</td>\n",
       "    </tr>\n",
       "    <tr>\n",
       "      <th>23473</th>\n",
       "      <td>Astroturfing: Journalist Reveals Brainwashing ...</td>\n",
       "      <td>Vic Bishop Waking TimesOur reality is carefull...</td>\n",
       "      <td>Middle-east</td>\n",
       "      <td>January 19, 2016</td>\n",
       "      <td>0</td>\n",
       "    </tr>\n",
       "    <tr>\n",
       "      <th>23474</th>\n",
       "      <td>The New American Century: An Era of Fraud</td>\n",
       "      <td>Paul Craig RobertsIn the last years of the 20t...</td>\n",
       "      <td>Middle-east</td>\n",
       "      <td>January 19, 2016</td>\n",
       "      <td>0</td>\n",
       "    </tr>\n",
       "    <tr>\n",
       "      <th>23475</th>\n",
       "      <td>Hillary Clinton: ‘Israel First’ (and no peace ...</td>\n",
       "      <td>Robert Fantina CounterpunchAlthough the United...</td>\n",
       "      <td>Middle-east</td>\n",
       "      <td>January 18, 2016</td>\n",
       "      <td>0</td>\n",
       "    </tr>\n",
       "    <tr>\n",
       "      <th>23476</th>\n",
       "      <td>McPain: John McCain Furious That Iran Treated ...</td>\n",
       "      <td>21st Century Wire says As 21WIRE reported earl...</td>\n",
       "      <td>Middle-east</td>\n",
       "      <td>January 16, 2016</td>\n",
       "      <td>0</td>\n",
       "    </tr>\n",
       "    <tr>\n",
       "      <th>23477</th>\n",
       "      <td>JUSTICE? Yahoo Settles E-mail Privacy Class-ac...</td>\n",
       "      <td>21st Century Wire says It s a familiar theme. ...</td>\n",
       "      <td>Middle-east</td>\n",
       "      <td>January 16, 2016</td>\n",
       "      <td>0</td>\n",
       "    </tr>\n",
       "    <tr>\n",
       "      <th>23478</th>\n",
       "      <td>Sunnistan: US and Allied ‘Safe Zone’ Plan to T...</td>\n",
       "      <td>Patrick Henningsen  21st Century WireRemember ...</td>\n",
       "      <td>Middle-east</td>\n",
       "      <td>January 15, 2016</td>\n",
       "      <td>0</td>\n",
       "    </tr>\n",
       "    <tr>\n",
       "      <th>23479</th>\n",
       "      <td>How to Blow $700 Million: Al Jazeera America F...</td>\n",
       "      <td>21st Century Wire says Al Jazeera America will...</td>\n",
       "      <td>Middle-east</td>\n",
       "      <td>January 14, 2016</td>\n",
       "      <td>0</td>\n",
       "    </tr>\n",
       "    <tr>\n",
       "      <th>23480</th>\n",
       "      <td>10 U.S. Navy Sailors Held by Iranian Military ...</td>\n",
       "      <td>21st Century Wire says As 21WIRE predicted in ...</td>\n",
       "      <td>Middle-east</td>\n",
       "      <td>January 12, 2016</td>\n",
       "      <td>0</td>\n",
       "    </tr>\n",
       "  </tbody>\n",
       "</table>\n",
       "</div>"
      ],
      "text/plain": [
       "                                                   title  \\\n",
       "23471  Seven Iranians freed in the prisoner swap have...   \n",
       "23472                      #Hashtag Hell & The Fake Left   \n",
       "23473  Astroturfing: Journalist Reveals Brainwashing ...   \n",
       "23474          The New American Century: An Era of Fraud   \n",
       "23475  Hillary Clinton: ‘Israel First’ (and no peace ...   \n",
       "23476  McPain: John McCain Furious That Iran Treated ...   \n",
       "23477  JUSTICE? Yahoo Settles E-mail Privacy Class-ac...   \n",
       "23478  Sunnistan: US and Allied ‘Safe Zone’ Plan to T...   \n",
       "23479  How to Blow $700 Million: Al Jazeera America F...   \n",
       "23480  10 U.S. Navy Sailors Held by Iranian Military ...   \n",
       "\n",
       "                                                    text      subject  \\\n",
       "23471  21st Century Wire says This week, the historic...  Middle-east   \n",
       "23472   By Dady Chery and Gilbert MercierAll writers ...  Middle-east   \n",
       "23473  Vic Bishop Waking TimesOur reality is carefull...  Middle-east   \n",
       "23474  Paul Craig RobertsIn the last years of the 20t...  Middle-east   \n",
       "23475  Robert Fantina CounterpunchAlthough the United...  Middle-east   \n",
       "23476  21st Century Wire says As 21WIRE reported earl...  Middle-east   \n",
       "23477  21st Century Wire says It s a familiar theme. ...  Middle-east   \n",
       "23478  Patrick Henningsen  21st Century WireRemember ...  Middle-east   \n",
       "23479  21st Century Wire says Al Jazeera America will...  Middle-east   \n",
       "23480  21st Century Wire says As 21WIRE predicted in ...  Middle-east   \n",
       "\n",
       "                   date  class  \n",
       "23471  January 20, 2016      0  \n",
       "23472  January 19, 2016      0  \n",
       "23473  January 19, 2016      0  \n",
       "23474  January 19, 2016      0  \n",
       "23475  January 18, 2016      0  \n",
       "23476  January 16, 2016      0  \n",
       "23477  January 16, 2016      0  \n",
       "23478  January 15, 2016      0  \n",
       "23479  January 14, 2016      0  \n",
       "23480  January 12, 2016      0  "
      ]
     },
     "execution_count": 7,
     "metadata": {},
     "output_type": "execute_result"
    }
   ],
   "source": [
    "fake_df_manual_testing.head(10)"
   ]
  },
  {
   "cell_type": "code",
   "execution_count": 8,
   "id": "25857be5",
   "metadata": {},
   "outputs": [
    {
     "data": {
      "text/html": [
       "<div>\n",
       "<style scoped>\n",
       "    .dataframe tbody tr th:only-of-type {\n",
       "        vertical-align: middle;\n",
       "    }\n",
       "\n",
       "    .dataframe tbody tr th {\n",
       "        vertical-align: top;\n",
       "    }\n",
       "\n",
       "    .dataframe thead th {\n",
       "        text-align: right;\n",
       "    }\n",
       "</style>\n",
       "<table border=\"1\" class=\"dataframe\">\n",
       "  <thead>\n",
       "    <tr style=\"text-align: right;\">\n",
       "      <th></th>\n",
       "      <th>title</th>\n",
       "      <th>text</th>\n",
       "      <th>subject</th>\n",
       "      <th>date</th>\n",
       "      <th>class</th>\n",
       "    </tr>\n",
       "  </thead>\n",
       "  <tbody>\n",
       "    <tr>\n",
       "      <th>21407</th>\n",
       "      <td>Mata Pires, owner of embattled Brazil builder ...</td>\n",
       "      <td>SAO PAULO (Reuters) - Cesar Mata Pires, the ow...</td>\n",
       "      <td>worldnews</td>\n",
       "      <td>August 22, 2017</td>\n",
       "      <td>1</td>\n",
       "    </tr>\n",
       "    <tr>\n",
       "      <th>21408</th>\n",
       "      <td>U.S., North Korea clash at U.N. forum over nuc...</td>\n",
       "      <td>GENEVA (Reuters) - North Korea and the United ...</td>\n",
       "      <td>worldnews</td>\n",
       "      <td>August 22, 2017</td>\n",
       "      <td>1</td>\n",
       "    </tr>\n",
       "    <tr>\n",
       "      <th>21409</th>\n",
       "      <td>U.S., North Korea clash at U.N. arms forum on ...</td>\n",
       "      <td>GENEVA (Reuters) - North Korea and the United ...</td>\n",
       "      <td>worldnews</td>\n",
       "      <td>August 22, 2017</td>\n",
       "      <td>1</td>\n",
       "    </tr>\n",
       "    <tr>\n",
       "      <th>21410</th>\n",
       "      <td>Headless torso could belong to submarine journ...</td>\n",
       "      <td>COPENHAGEN (Reuters) - Danish police said on T...</td>\n",
       "      <td>worldnews</td>\n",
       "      <td>August 22, 2017</td>\n",
       "      <td>1</td>\n",
       "    </tr>\n",
       "    <tr>\n",
       "      <th>21411</th>\n",
       "      <td>North Korea shipments to Syria chemical arms a...</td>\n",
       "      <td>UNITED NATIONS (Reuters) - Two North Korean sh...</td>\n",
       "      <td>worldnews</td>\n",
       "      <td>August 21, 2017</td>\n",
       "      <td>1</td>\n",
       "    </tr>\n",
       "    <tr>\n",
       "      <th>21412</th>\n",
       "      <td>'Fully committed' NATO backs new U.S. approach...</td>\n",
       "      <td>BRUSSELS (Reuters) - NATO allies on Tuesday we...</td>\n",
       "      <td>worldnews</td>\n",
       "      <td>August 22, 2017</td>\n",
       "      <td>1</td>\n",
       "    </tr>\n",
       "    <tr>\n",
       "      <th>21413</th>\n",
       "      <td>LexisNexis withdrew two products from Chinese ...</td>\n",
       "      <td>LONDON (Reuters) - LexisNexis, a provider of l...</td>\n",
       "      <td>worldnews</td>\n",
       "      <td>August 22, 2017</td>\n",
       "      <td>1</td>\n",
       "    </tr>\n",
       "    <tr>\n",
       "      <th>21414</th>\n",
       "      <td>Minsk cultural hub becomes haven from authorities</td>\n",
       "      <td>MINSK (Reuters) - In the shadow of disused Sov...</td>\n",
       "      <td>worldnews</td>\n",
       "      <td>August 22, 2017</td>\n",
       "      <td>1</td>\n",
       "    </tr>\n",
       "    <tr>\n",
       "      <th>21415</th>\n",
       "      <td>Vatican upbeat on possibility of Pope Francis ...</td>\n",
       "      <td>MOSCOW (Reuters) - Vatican Secretary of State ...</td>\n",
       "      <td>worldnews</td>\n",
       "      <td>August 22, 2017</td>\n",
       "      <td>1</td>\n",
       "    </tr>\n",
       "    <tr>\n",
       "      <th>21416</th>\n",
       "      <td>Indonesia to buy $1.14 billion worth of Russia...</td>\n",
       "      <td>JAKARTA (Reuters) - Indonesia will buy 11 Sukh...</td>\n",
       "      <td>worldnews</td>\n",
       "      <td>August 22, 2017</td>\n",
       "      <td>1</td>\n",
       "    </tr>\n",
       "  </tbody>\n",
       "</table>\n",
       "</div>"
      ],
      "text/plain": [
       "                                                   title  \\\n",
       "21407  Mata Pires, owner of embattled Brazil builder ...   \n",
       "21408  U.S., North Korea clash at U.N. forum over nuc...   \n",
       "21409  U.S., North Korea clash at U.N. arms forum on ...   \n",
       "21410  Headless torso could belong to submarine journ...   \n",
       "21411  North Korea shipments to Syria chemical arms a...   \n",
       "21412  'Fully committed' NATO backs new U.S. approach...   \n",
       "21413  LexisNexis withdrew two products from Chinese ...   \n",
       "21414  Minsk cultural hub becomes haven from authorities   \n",
       "21415  Vatican upbeat on possibility of Pope Francis ...   \n",
       "21416  Indonesia to buy $1.14 billion worth of Russia...   \n",
       "\n",
       "                                                    text    subject  \\\n",
       "21407  SAO PAULO (Reuters) - Cesar Mata Pires, the ow...  worldnews   \n",
       "21408  GENEVA (Reuters) - North Korea and the United ...  worldnews   \n",
       "21409  GENEVA (Reuters) - North Korea and the United ...  worldnews   \n",
       "21410  COPENHAGEN (Reuters) - Danish police said on T...  worldnews   \n",
       "21411  UNITED NATIONS (Reuters) - Two North Korean sh...  worldnews   \n",
       "21412  BRUSSELS (Reuters) - NATO allies on Tuesday we...  worldnews   \n",
       "21413  LONDON (Reuters) - LexisNexis, a provider of l...  worldnews   \n",
       "21414  MINSK (Reuters) - In the shadow of disused Sov...  worldnews   \n",
       "21415  MOSCOW (Reuters) - Vatican Secretary of State ...  worldnews   \n",
       "21416  JAKARTA (Reuters) - Indonesia will buy 11 Sukh...  worldnews   \n",
       "\n",
       "                   date  class  \n",
       "21407  August 22, 2017       1  \n",
       "21408  August 22, 2017       1  \n",
       "21409  August 22, 2017       1  \n",
       "21410  August 22, 2017       1  \n",
       "21411  August 21, 2017       1  \n",
       "21412  August 22, 2017       1  \n",
       "21413  August 22, 2017       1  \n",
       "21414  August 22, 2017       1  \n",
       "21415  August 22, 2017       1  \n",
       "21416  August 22, 2017       1  "
      ]
     },
     "execution_count": 8,
     "metadata": {},
     "output_type": "execute_result"
    }
   ],
   "source": [
    "true_df_manual_testing.head(10)"
   ]
  },
  {
   "cell_type": "code",
   "execution_count": 9,
   "id": "5d10aa03",
   "metadata": {},
   "outputs": [
    {
     "data": {
      "text/html": [
       "<div>\n",
       "<style scoped>\n",
       "    .dataframe tbody tr th:only-of-type {\n",
       "        vertical-align: middle;\n",
       "    }\n",
       "\n",
       "    .dataframe tbody tr th {\n",
       "        vertical-align: top;\n",
       "    }\n",
       "\n",
       "    .dataframe thead th {\n",
       "        text-align: right;\n",
       "    }\n",
       "</style>\n",
       "<table border=\"1\" class=\"dataframe\">\n",
       "  <thead>\n",
       "    <tr style=\"text-align: right;\">\n",
       "      <th></th>\n",
       "      <th>title</th>\n",
       "      <th>text</th>\n",
       "      <th>subject</th>\n",
       "      <th>date</th>\n",
       "      <th>class</th>\n",
       "    </tr>\n",
       "  </thead>\n",
       "  <tbody>\n",
       "    <tr>\n",
       "      <th>0</th>\n",
       "      <td>Donald Trump Sends Out Embarrassing New Year’...</td>\n",
       "      <td>Donald Trump just couldn t wish all Americans ...</td>\n",
       "      <td>News</td>\n",
       "      <td>December 31, 2017</td>\n",
       "      <td>0</td>\n",
       "    </tr>\n",
       "    <tr>\n",
       "      <th>1</th>\n",
       "      <td>Drunk Bragging Trump Staffer Started Russian ...</td>\n",
       "      <td>House Intelligence Committee Chairman Devin Nu...</td>\n",
       "      <td>News</td>\n",
       "      <td>December 31, 2017</td>\n",
       "      <td>0</td>\n",
       "    </tr>\n",
       "    <tr>\n",
       "      <th>2</th>\n",
       "      <td>Sheriff David Clarke Becomes An Internet Joke...</td>\n",
       "      <td>On Friday, it was revealed that former Milwauk...</td>\n",
       "      <td>News</td>\n",
       "      <td>December 30, 2017</td>\n",
       "      <td>0</td>\n",
       "    </tr>\n",
       "    <tr>\n",
       "      <th>3</th>\n",
       "      <td>Trump Is So Obsessed He Even Has Obama’s Name...</td>\n",
       "      <td>On Christmas day, Donald Trump announced that ...</td>\n",
       "      <td>News</td>\n",
       "      <td>December 29, 2017</td>\n",
       "      <td>0</td>\n",
       "    </tr>\n",
       "    <tr>\n",
       "      <th>4</th>\n",
       "      <td>Pope Francis Just Called Out Donald Trump Dur...</td>\n",
       "      <td>Pope Francis used his annual Christmas Day mes...</td>\n",
       "      <td>News</td>\n",
       "      <td>December 25, 2017</td>\n",
       "      <td>0</td>\n",
       "    </tr>\n",
       "    <tr>\n",
       "      <th>5</th>\n",
       "      <td>Racist Alabama Cops Brutalize Black Boy While...</td>\n",
       "      <td>The number of cases of cops brutalizing and ki...</td>\n",
       "      <td>News</td>\n",
       "      <td>December 25, 2017</td>\n",
       "      <td>0</td>\n",
       "    </tr>\n",
       "    <tr>\n",
       "      <th>6</th>\n",
       "      <td>Fresh Off The Golf Course, Trump Lashes Out A...</td>\n",
       "      <td>Donald Trump spent a good portion of his day a...</td>\n",
       "      <td>News</td>\n",
       "      <td>December 23, 2017</td>\n",
       "      <td>0</td>\n",
       "    </tr>\n",
       "    <tr>\n",
       "      <th>7</th>\n",
       "      <td>Trump Said Some INSANELY Racist Stuff Inside ...</td>\n",
       "      <td>In the wake of yet another court decision that...</td>\n",
       "      <td>News</td>\n",
       "      <td>December 23, 2017</td>\n",
       "      <td>0</td>\n",
       "    </tr>\n",
       "    <tr>\n",
       "      <th>8</th>\n",
       "      <td>Former CIA Director Slams Trump Over UN Bully...</td>\n",
       "      <td>Many people have raised the alarm regarding th...</td>\n",
       "      <td>News</td>\n",
       "      <td>December 22, 2017</td>\n",
       "      <td>0</td>\n",
       "    </tr>\n",
       "    <tr>\n",
       "      <th>9</th>\n",
       "      <td>WATCH: Brand-New Pro-Trump Ad Features So Muc...</td>\n",
       "      <td>Just when you might have thought we d get a br...</td>\n",
       "      <td>News</td>\n",
       "      <td>December 21, 2017</td>\n",
       "      <td>0</td>\n",
       "    </tr>\n",
       "  </tbody>\n",
       "</table>\n",
       "</div>"
      ],
      "text/plain": [
       "                                               title  \\\n",
       "0   Donald Trump Sends Out Embarrassing New Year’...   \n",
       "1   Drunk Bragging Trump Staffer Started Russian ...   \n",
       "2   Sheriff David Clarke Becomes An Internet Joke...   \n",
       "3   Trump Is So Obsessed He Even Has Obama’s Name...   \n",
       "4   Pope Francis Just Called Out Donald Trump Dur...   \n",
       "5   Racist Alabama Cops Brutalize Black Boy While...   \n",
       "6   Fresh Off The Golf Course, Trump Lashes Out A...   \n",
       "7   Trump Said Some INSANELY Racist Stuff Inside ...   \n",
       "8   Former CIA Director Slams Trump Over UN Bully...   \n",
       "9   WATCH: Brand-New Pro-Trump Ad Features So Muc...   \n",
       "\n",
       "                                                text subject  \\\n",
       "0  Donald Trump just couldn t wish all Americans ...    News   \n",
       "1  House Intelligence Committee Chairman Devin Nu...    News   \n",
       "2  On Friday, it was revealed that former Milwauk...    News   \n",
       "3  On Christmas day, Donald Trump announced that ...    News   \n",
       "4  Pope Francis used his annual Christmas Day mes...    News   \n",
       "5  The number of cases of cops brutalizing and ki...    News   \n",
       "6  Donald Trump spent a good portion of his day a...    News   \n",
       "7  In the wake of yet another court decision that...    News   \n",
       "8  Many people have raised the alarm regarding th...    News   \n",
       "9  Just when you might have thought we d get a br...    News   \n",
       "\n",
       "                date  class  \n",
       "0  December 31, 2017      0  \n",
       "1  December 31, 2017      0  \n",
       "2  December 30, 2017      0  \n",
       "3  December 29, 2017      0  \n",
       "4  December 25, 2017      0  \n",
       "5  December 25, 2017      0  \n",
       "6  December 23, 2017      0  \n",
       "7  December 23, 2017      0  \n",
       "8  December 22, 2017      0  \n",
       "9  December 21, 2017      0  "
      ]
     },
     "execution_count": 9,
     "metadata": {},
     "output_type": "execute_result"
    }
   ],
   "source": [
    "data_merge = pd.concat([fake_df, true_df], axis=0)\n",
    "data_merge.head(10)"
   ]
  },
  {
   "cell_type": "code",
   "execution_count": 10,
   "id": "70027f6b",
   "metadata": {},
   "outputs": [
    {
     "data": {
      "text/plain": [
       "Index(['title', 'text', 'subject', 'date', 'class'], dtype='object')"
      ]
     },
     "execution_count": 10,
     "metadata": {},
     "output_type": "execute_result"
    }
   ],
   "source": [
    "data_merge.columns"
   ]
  },
  {
   "cell_type": "code",
   "execution_count": 11,
   "id": "8ca4b9ae",
   "metadata": {},
   "outputs": [],
   "source": [
    "data = data_merge.drop(['title','subject','date'], axis=1)"
   ]
  },
  {
   "cell_type": "code",
   "execution_count": 12,
   "id": "fa56bfe8",
   "metadata": {},
   "outputs": [
    {
     "data": {
      "text/html": [
       "<div>\n",
       "<style scoped>\n",
       "    .dataframe tbody tr th:only-of-type {\n",
       "        vertical-align: middle;\n",
       "    }\n",
       "\n",
       "    .dataframe tbody tr th {\n",
       "        vertical-align: top;\n",
       "    }\n",
       "\n",
       "    .dataframe thead th {\n",
       "        text-align: right;\n",
       "    }\n",
       "</style>\n",
       "<table border=\"1\" class=\"dataframe\">\n",
       "  <thead>\n",
       "    <tr style=\"text-align: right;\">\n",
       "      <th></th>\n",
       "      <th>text</th>\n",
       "      <th>class</th>\n",
       "    </tr>\n",
       "  </thead>\n",
       "  <tbody>\n",
       "    <tr>\n",
       "      <th>0</th>\n",
       "      <td>Donald Trump just couldn t wish all Americans ...</td>\n",
       "      <td>0</td>\n",
       "    </tr>\n",
       "    <tr>\n",
       "      <th>1</th>\n",
       "      <td>House Intelligence Committee Chairman Devin Nu...</td>\n",
       "      <td>0</td>\n",
       "    </tr>\n",
       "    <tr>\n",
       "      <th>2</th>\n",
       "      <td>On Friday, it was revealed that former Milwauk...</td>\n",
       "      <td>0</td>\n",
       "    </tr>\n",
       "    <tr>\n",
       "      <th>3</th>\n",
       "      <td>On Christmas day, Donald Trump announced that ...</td>\n",
       "      <td>0</td>\n",
       "    </tr>\n",
       "    <tr>\n",
       "      <th>4</th>\n",
       "      <td>Pope Francis used his annual Christmas Day mes...</td>\n",
       "      <td>0</td>\n",
       "    </tr>\n",
       "  </tbody>\n",
       "</table>\n",
       "</div>"
      ],
      "text/plain": [
       "                                                text  class\n",
       "0  Donald Trump just couldn t wish all Americans ...      0\n",
       "1  House Intelligence Committee Chairman Devin Nu...      0\n",
       "2  On Friday, it was revealed that former Milwauk...      0\n",
       "3  On Christmas day, Donald Trump announced that ...      0\n",
       "4  Pope Francis used his annual Christmas Day mes...      0"
      ]
     },
     "execution_count": 12,
     "metadata": {},
     "output_type": "execute_result"
    }
   ],
   "source": [
    "data.head()"
   ]
  },
  {
   "cell_type": "code",
   "execution_count": 13,
   "id": "060b5c90",
   "metadata": {},
   "outputs": [
    {
     "data": {
      "text/plain": [
       "text     0\n",
       "class    0\n",
       "dtype: int64"
      ]
     },
     "execution_count": 13,
     "metadata": {},
     "output_type": "execute_result"
    }
   ],
   "source": [
    "data.isnull().sum()"
   ]
  },
  {
   "cell_type": "code",
   "execution_count": 14,
   "id": "32a5c552",
   "metadata": {},
   "outputs": [],
   "source": [
    "data = data.sample(frac=1)"
   ]
  },
  {
   "cell_type": "code",
   "execution_count": 15,
   "id": "6af19eec",
   "metadata": {},
   "outputs": [
    {
     "data": {
      "text/html": [
       "<div>\n",
       "<style scoped>\n",
       "    .dataframe tbody tr th:only-of-type {\n",
       "        vertical-align: middle;\n",
       "    }\n",
       "\n",
       "    .dataframe tbody tr th {\n",
       "        vertical-align: top;\n",
       "    }\n",
       "\n",
       "    .dataframe thead th {\n",
       "        text-align: right;\n",
       "    }\n",
       "</style>\n",
       "<table border=\"1\" class=\"dataframe\">\n",
       "  <thead>\n",
       "    <tr style=\"text-align: right;\">\n",
       "      <th></th>\n",
       "      <th>text</th>\n",
       "      <th>class</th>\n",
       "    </tr>\n",
       "  </thead>\n",
       "  <tbody>\n",
       "    <tr>\n",
       "      <th>4048</th>\n",
       "      <td>Donald Trump, increasingly desperate as the el...</td>\n",
       "      <td>0</td>\n",
       "    </tr>\n",
       "    <tr>\n",
       "      <th>18385</th>\n",
       "      <td>(Reuters) - The death toll in Puerto Rico from...</td>\n",
       "      <td>1</td>\n",
       "    </tr>\n",
       "    <tr>\n",
       "      <th>12059</th>\n",
       "      <td>Kellyanne Conway s response to Williams  criti...</td>\n",
       "      <td>0</td>\n",
       "    </tr>\n",
       "    <tr>\n",
       "      <th>17722</th>\n",
       "      <td>When  comedian  Andy Dick repeatedly slid his ...</td>\n",
       "      <td>0</td>\n",
       "    </tr>\n",
       "    <tr>\n",
       "      <th>18680</th>\n",
       "      <td>WASHINGTON (Reuters) - The U.S. led coalition ...</td>\n",
       "      <td>1</td>\n",
       "    </tr>\n",
       "  </tbody>\n",
       "</table>\n",
       "</div>"
      ],
      "text/plain": [
       "                                                    text  class\n",
       "4048   Donald Trump, increasingly desperate as the el...      0\n",
       "18385  (Reuters) - The death toll in Puerto Rico from...      1\n",
       "12059  Kellyanne Conway s response to Williams  criti...      0\n",
       "17722  When  comedian  Andy Dick repeatedly slid his ...      0\n",
       "18680  WASHINGTON (Reuters) - The U.S. led coalition ...      1"
      ]
     },
     "execution_count": 15,
     "metadata": {},
     "output_type": "execute_result"
    }
   ],
   "source": [
    "data.head()"
   ]
  },
  {
   "cell_type": "code",
   "execution_count": 16,
   "id": "078e2813",
   "metadata": {},
   "outputs": [],
   "source": [
    "data.reset_index(inplace = True)\n",
    "data.drop(['index'],axis=1, inplace=True)"
   ]
  },
  {
   "cell_type": "code",
   "execution_count": 17,
   "id": "ce740881",
   "metadata": {},
   "outputs": [
    {
     "data": {
      "text/plain": [
       "Index(['text', 'class'], dtype='object')"
      ]
     },
     "execution_count": 17,
     "metadata": {},
     "output_type": "execute_result"
    }
   ],
   "source": [
    "data.columns"
   ]
  },
  {
   "cell_type": "code",
   "execution_count": 18,
   "id": "ed7d6069",
   "metadata": {},
   "outputs": [
    {
     "data": {
      "text/html": [
       "<div>\n",
       "<style scoped>\n",
       "    .dataframe tbody tr th:only-of-type {\n",
       "        vertical-align: middle;\n",
       "    }\n",
       "\n",
       "    .dataframe tbody tr th {\n",
       "        vertical-align: top;\n",
       "    }\n",
       "\n",
       "    .dataframe thead th {\n",
       "        text-align: right;\n",
       "    }\n",
       "</style>\n",
       "<table border=\"1\" class=\"dataframe\">\n",
       "  <thead>\n",
       "    <tr style=\"text-align: right;\">\n",
       "      <th></th>\n",
       "      <th>text</th>\n",
       "      <th>class</th>\n",
       "    </tr>\n",
       "  </thead>\n",
       "  <tbody>\n",
       "    <tr>\n",
       "      <th>0</th>\n",
       "      <td>Donald Trump, increasingly desperate as the el...</td>\n",
       "      <td>0</td>\n",
       "    </tr>\n",
       "    <tr>\n",
       "      <th>1</th>\n",
       "      <td>(Reuters) - The death toll in Puerto Rico from...</td>\n",
       "      <td>1</td>\n",
       "    </tr>\n",
       "    <tr>\n",
       "      <th>2</th>\n",
       "      <td>Kellyanne Conway s response to Williams  criti...</td>\n",
       "      <td>0</td>\n",
       "    </tr>\n",
       "    <tr>\n",
       "      <th>3</th>\n",
       "      <td>When  comedian  Andy Dick repeatedly slid his ...</td>\n",
       "      <td>0</td>\n",
       "    </tr>\n",
       "    <tr>\n",
       "      <th>4</th>\n",
       "      <td>WASHINGTON (Reuters) - The U.S. led coalition ...</td>\n",
       "      <td>1</td>\n",
       "    </tr>\n",
       "  </tbody>\n",
       "</table>\n",
       "</div>"
      ],
      "text/plain": [
       "                                                text  class\n",
       "0  Donald Trump, increasingly desperate as the el...      0\n",
       "1  (Reuters) - The death toll in Puerto Rico from...      1\n",
       "2  Kellyanne Conway s response to Williams  criti...      0\n",
       "3  When  comedian  Andy Dick repeatedly slid his ...      0\n",
       "4  WASHINGTON (Reuters) - The U.S. led coalition ...      1"
      ]
     },
     "execution_count": 18,
     "metadata": {},
     "output_type": "execute_result"
    }
   ],
   "source": [
    "data.head()"
   ]
  },
  {
   "cell_type": "markdown",
   "id": "65f82074",
   "metadata": {},
   "source": [
    "## Text Preprocessing\n",
    "\n",
    "This Python function `preprocess_text` performs text preprocessing tasks on the input text data. Here's a breakdown of the steps:\n",
    "\n",
    "1. **Convert Text to Lowercase:**\n",
    "   - Converts all characters in the text to lowercase using the `lower()` method.\n",
    "\n",
    "2. **Remove Square Brackets and Their Contents:**\n",
    "   - Uses regular expression (`re`) to remove square brackets and any text within them.\n",
    "\n",
    "3. **Remove Non-Alphanumeric Characters:**\n",
    "   - Utilizes a list comprehension to keep only alphanumeric characters and whitespaces.\n",
    "\n",
    "4. **Remove URLs:**\n",
    "   - Uses regular expression (`re`) to remove URLs starting with \"http\" or \"https\" as well as URLs starting with \"www\".\n",
    "\n",
    "5. **Remove XML/HTML Tags:**\n",
    "   - Employs regular expression (`re`) to remove any XML/HTML tags (i.e., text within `<` and `>`).\n",
    "\n",
    "6. **Remove Punctuation:**\n",
    "   - Removes all punctuation characters using the `string.punctuation` constant.\n",
    "\n",
    "7. **Tokenize the Text:**\n",
    "   - Splits the text into tokens using `word_tokenize` from the `nltk.tokenize` module.\n",
    "\n",
    "8. **Remove Stop Words:**\n",
    "   - Removes common English stop words using the `stopwords` corpus from the `nltk.corpus` module.\n",
    "\n",
    "9. **Remove Words Containing Digits:**\n",
    "   - Filters out words containing digits using a list comprehension with `isdigit()`.\n",
    "\n",
    "10. **Lemmatize Tokens:**\n",
    "    - Lemmatizes the tokens using the WordNet lemmatizer from the `nltk.stem` module.\n",
    "\n",
    "11. **Join Tokens Back Into a Single String:**\n",
    "    - Joins the processed tokens back into a single string using `' '.join(tokens)`.\n",
    "\n",
    "12. **Return Processed Text:**\n",
    "    - Returns the preprocessed text.\n",
    "\n",
    "Finally, the function is applied to the 'text' column of a DataFrame named `data` using the `apply` method, and the result is stored back into the 'text' column.\n"
   ]
  },
  {
   "cell_type": "code",
   "execution_count": 19,
   "id": "969a4406",
   "metadata": {},
   "outputs": [
    {
     "data": {
      "text/html": [
       "<div>\n",
       "<style scoped>\n",
       "    .dataframe tbody tr th:only-of-type {\n",
       "        vertical-align: middle;\n",
       "    }\n",
       "\n",
       "    .dataframe tbody tr th {\n",
       "        vertical-align: top;\n",
       "    }\n",
       "\n",
       "    .dataframe thead th {\n",
       "        text-align: right;\n",
       "    }\n",
       "</style>\n",
       "<table border=\"1\" class=\"dataframe\">\n",
       "  <thead>\n",
       "    <tr style=\"text-align: right;\">\n",
       "      <th></th>\n",
       "      <th>text</th>\n",
       "      <th>class</th>\n",
       "    </tr>\n",
       "  </thead>\n",
       "  <tbody>\n",
       "    <tr>\n",
       "      <th>0</th>\n",
       "      <td>donald trump increasingly desperate as the ele...</td>\n",
       "      <td>0</td>\n",
       "    </tr>\n",
       "    <tr>\n",
       "      <th>1</th>\n",
       "      <td>reuters  the death toll in puerto rico from hu...</td>\n",
       "      <td>1</td>\n",
       "    </tr>\n",
       "    <tr>\n",
       "      <th>2</th>\n",
       "      <td>kellyanne conway s response to williams  criti...</td>\n",
       "      <td>0</td>\n",
       "    </tr>\n",
       "    <tr>\n",
       "      <th>3</th>\n",
       "      <td>when  comedian  andy dick repeatedly slid his ...</td>\n",
       "      <td>0</td>\n",
       "    </tr>\n",
       "    <tr>\n",
       "      <th>4</th>\n",
       "      <td>washington reuters  the us led coalition fight...</td>\n",
       "      <td>1</td>\n",
       "    </tr>\n",
       "  </tbody>\n",
       "</table>\n",
       "</div>"
      ],
      "text/plain": [
       "                                                text  class\n",
       "0  donald trump increasingly desperate as the ele...      0\n",
       "1  reuters  the death toll in puerto rico from hu...      1\n",
       "2  kellyanne conway s response to williams  criti...      0\n",
       "3  when  comedian  andy dick repeatedly slid his ...      0\n",
       "4  washington reuters  the us led coalition fight...      1"
      ]
     },
     "execution_count": 19,
     "metadata": {},
     "output_type": "execute_result"
    }
   ],
   "source": [
    "import string\n",
    "import re\n",
    "from nltk.corpus import stopwords\n",
    "from nltk.tokenize import word_tokenize\n",
    "from nltk.stem import WordNetLemmatizer\n",
    "\n",
    "def preprocess_text(text):\n",
    "    # Convert text to lowercase\n",
    "    text = text.lower()\n",
    "    \n",
    "    # Remove square brackets and their contents\n",
    "    text = re.sub(r'\\[.*?\\]', '', text)\n",
    "    \n",
    "    # Remove non-alphanumeric characters\n",
    "    text = ''.join(char for char in text if char.isalnum() or char.isspace())\n",
    "    \n",
    "    # Remove URLs\n",
    "    text = re.sub(r'https?://\\S+|www\\.\\S+', '', text)\n",
    "    \n",
    "    # Remove XML/HTML tags\n",
    "    text = re.sub(r'<.*?>', '', text)\n",
    "    \n",
    "    # Remove punctuation\n",
    "    text = ''.join(char for char in text if char not in string.punctuation)\n",
    "    \n",
    "    # Tokenize the text\n",
    "    tokens = word_tokenize(text)\n",
    "    \n",
    "    # Remove stop words\n",
    "    stop_words = set(stopwords.words('english'))\n",
    "    tokens = [word for word in tokens if word not in stop_words]\n",
    "    \n",
    "    # Remove words containing digits\n",
    "    tokens = [word for word in tokens if not any(c.isdigit() for c in word)]\n",
    "    \n",
    "    # Lemmatize tokens\n",
    "    lemmatizer = WordNetLemmatizer()\n",
    "    tokens = [lemmatizer.lemmatize(word) for word in tokens]\n",
    "    \n",
    "    # Join tokens back into a single string\n",
    "    processed_text = ' '.join(tokens)\n",
    "    \n",
    "    return text\n",
    "\n",
    "data['text'] = data['text'].apply(preprocess_text)\n",
    "data.head()\n"
   ]
  },
  {
   "cell_type": "markdown",
   "id": "730b8585",
   "metadata": {},
   "source": [
    "## Setting up for Machine Learning\n",
    "\n",
    "This code segment accomplishes the following tasks for preparing data for a machine learning model:\n",
    "\n",
    "1. **Assign Variables:**\n",
    "   - `x`: Assigns the values from the 'text' column of the DataFrame `data` to the variable `x`.\n",
    "   - `y`: Assigns the values from the 'class' column of the DataFrame `data` to the variable `y`.\n",
    "\n",
    "2. **Split Data:**\n",
    "   - `train_test_split`: Splits the data into training and testing sets.\n",
    "   - `x_train` and `y_train`: Store the features and labels for the training set, respectively.\n",
    "   - `x_test` and `y_test`: Store the features and labels for the testing set, respectively.\n",
    "   - `test_size=0.25`: Specifies that 25% of the data should be allocated for the testing set, while the remaining 75% will be used for training.\n"
   ]
  },
  {
   "cell_type": "code",
   "execution_count": 20,
   "id": "9a581223",
   "metadata": {},
   "outputs": [],
   "source": [
    "x=data['text']\n",
    "y=data['class']"
   ]
  },
  {
   "cell_type": "code",
   "execution_count": 21,
   "id": "e1c34423",
   "metadata": {},
   "outputs": [],
   "source": [
    "x_train, x_test, y_train, y_test = train_test_split(x,y,test_size=0.25)"
   ]
  },
  {
   "cell_type": "markdown",
   "id": "62ad5db2",
   "metadata": {},
   "source": [
    "## Text Vectorization using TF-IDF vectorisation\n",
    "\n",
    "This code snippet performs text vectorization using the TF-IDF (Term Frequency-Inverse Document Frequency) technique with the `TfidfVectorizer` class from the `sklearn.feature_extraction.text` module.\n",
    "\n",
    "1. **Import TfidfVectorizer:**\n",
    "   - Imports the `TfidfVectorizer` class from the `sklearn.feature_extraction.text` module.\n",
    "\n",
    "2. **Instantiate TfidfVectorizer:**\n",
    "   - `vectorization = TfidfVectorizer()`: Instantiates a TF-IDF vectorizer object named `vectorization`. This object will be used to convert text data into TF-IDF vectors.\n",
    "\n",
    "3. **Transform Training Data:**\n",
    "   - `xv_train = vectorization.fit_transform(x_train)`: Fits the vectorizer (`vectorization`) to the training data (`x_train`) and transforms it into a TF-IDF matrix. This step calculates the TF-IDF values for each term in the training data.\n",
    "\n",
    "4. **Transform Testing Data:**\n",
    "   - `xv_test = vectorization.transform(x_test)`: Uses the fitted vectorizer (`vectorization`) to transform the testing data (`x_test`) into a TF-IDF matrix. This step applies the same transformation learned from the training data to the testing data, ensuring consistency in feature representation.\n",
    "\n",
    "The TF-IDF vectorization process converts text data into numerical representations suitable for machine learning algorithms, where each document (text) is represented as a vector of TF-IDF values for individual terms.\n"
   ]
  },
  {
   "cell_type": "code",
   "execution_count": 22,
   "id": "7c5979b6",
   "metadata": {},
   "outputs": [],
   "source": [
    "from sklearn.feature_extraction.text import TfidfVectorizer\n",
    "\n",
    "vectorization = TfidfVectorizer()\n",
    "xv_train = vectorization.fit_transform(x_train)\n",
    "xv_test = vectorization.transform(x_test)\n",
    "\n"
   ]
  },
  {
   "cell_type": "markdown",
   "id": "e47fb70a",
   "metadata": {},
   "source": [
    "## Logistic Regression Model\n",
    "\n",
    "This code segment involves training a Logistic Regression model using the TF-IDF vectors obtained from the text data.\n",
    "\n",
    "1. **Import LogisticRegression:**\n",
    "   - Imports the `LogisticRegression` class from the `sklearn.linear_model` module.\n",
    "\n",
    "2. **Instantiate Logistic Regression Model:**\n",
    "   - `LR_model = LogisticRegression()`: Instantiates a Logistic Regression model object named `LR_model`.\n",
    "\n",
    "3. **Fit Model to Training Data:**\n",
    "   - `LR_model.fit(xv_train, y_train)`: Fits the Logistic Regression model (`LR_model`) to the TF-IDF transformed training data (`xv_train`) along with their corresponding labels (`y_train`). This step trains the model to learn the relationship between the features and the target classes.\n",
    "\n",
    "4. **Make Predictions:**\n",
    "   - `pred_lr = LR_model.predict(xv_test)`: Uses the trained Logistic Regression model (`LR_model`) to make predictions on the TF-IDF transformed testing data (`xv_test`). The predicted labels are stored in the variable `pred_lr`.\n",
    "\n",
    "5. **Model Evaluation:**\n",
    "   - `LR_model.score(xv_test, y_test)`: Calculates the accuracy score of the Logistic Regression model on the testing data (`xv_test`) and their corresponding true labels (`y_test`).\n",
    "\n",
    "6. **Print Classification Report:**\n",
    "   - `print(classification_report(y_test, pred_lr))`: Prints a classification report which includes precision, recall, F1-score, and support for each class, based on the true labels (`y_test`) and the predicted labels (`pred_lr`). This report provides a comprehensive evaluation of the model's performance on the testing data.\n",
    "\n",
    "This code demonstrates the process of training a Logistic Regression model, making predictions, evaluating its performance, and printing a classification report to assess its effectiveness in classifying text data.\n"
   ]
  },
  {
   "cell_type": "code",
   "execution_count": 23,
   "id": "2994f7d2",
   "metadata": {},
   "outputs": [
    {
     "data": {
      "text/html": [
       "<style>#sk-container-id-1 {color: black;}#sk-container-id-1 pre{padding: 0;}#sk-container-id-1 div.sk-toggleable {background-color: white;}#sk-container-id-1 label.sk-toggleable__label {cursor: pointer;display: block;width: 100%;margin-bottom: 0;padding: 0.3em;box-sizing: border-box;text-align: center;}#sk-container-id-1 label.sk-toggleable__label-arrow:before {content: \"▸\";float: left;margin-right: 0.25em;color: #696969;}#sk-container-id-1 label.sk-toggleable__label-arrow:hover:before {color: black;}#sk-container-id-1 div.sk-estimator:hover label.sk-toggleable__label-arrow:before {color: black;}#sk-container-id-1 div.sk-toggleable__content {max-height: 0;max-width: 0;overflow: hidden;text-align: left;background-color: #f0f8ff;}#sk-container-id-1 div.sk-toggleable__content pre {margin: 0.2em;color: black;border-radius: 0.25em;background-color: #f0f8ff;}#sk-container-id-1 input.sk-toggleable__control:checked~div.sk-toggleable__content {max-height: 200px;max-width: 100%;overflow: auto;}#sk-container-id-1 input.sk-toggleable__control:checked~label.sk-toggleable__label-arrow:before {content: \"▾\";}#sk-container-id-1 div.sk-estimator input.sk-toggleable__control:checked~label.sk-toggleable__label {background-color: #d4ebff;}#sk-container-id-1 div.sk-label input.sk-toggleable__control:checked~label.sk-toggleable__label {background-color: #d4ebff;}#sk-container-id-1 input.sk-hidden--visually {border: 0;clip: rect(1px 1px 1px 1px);clip: rect(1px, 1px, 1px, 1px);height: 1px;margin: -1px;overflow: hidden;padding: 0;position: absolute;width: 1px;}#sk-container-id-1 div.sk-estimator {font-family: monospace;background-color: #f0f8ff;border: 1px dotted black;border-radius: 0.25em;box-sizing: border-box;margin-bottom: 0.5em;}#sk-container-id-1 div.sk-estimator:hover {background-color: #d4ebff;}#sk-container-id-1 div.sk-parallel-item::after {content: \"\";width: 100%;border-bottom: 1px solid gray;flex-grow: 1;}#sk-container-id-1 div.sk-label:hover label.sk-toggleable__label {background-color: #d4ebff;}#sk-container-id-1 div.sk-serial::before {content: \"\";position: absolute;border-left: 1px solid gray;box-sizing: border-box;top: 0;bottom: 0;left: 50%;z-index: 0;}#sk-container-id-1 div.sk-serial {display: flex;flex-direction: column;align-items: center;background-color: white;padding-right: 0.2em;padding-left: 0.2em;position: relative;}#sk-container-id-1 div.sk-item {position: relative;z-index: 1;}#sk-container-id-1 div.sk-parallel {display: flex;align-items: stretch;justify-content: center;background-color: white;position: relative;}#sk-container-id-1 div.sk-item::before, #sk-container-id-1 div.sk-parallel-item::before {content: \"\";position: absolute;border-left: 1px solid gray;box-sizing: border-box;top: 0;bottom: 0;left: 50%;z-index: -1;}#sk-container-id-1 div.sk-parallel-item {display: flex;flex-direction: column;z-index: 1;position: relative;background-color: white;}#sk-container-id-1 div.sk-parallel-item:first-child::after {align-self: flex-end;width: 50%;}#sk-container-id-1 div.sk-parallel-item:last-child::after {align-self: flex-start;width: 50%;}#sk-container-id-1 div.sk-parallel-item:only-child::after {width: 0;}#sk-container-id-1 div.sk-dashed-wrapped {border: 1px dashed gray;margin: 0 0.4em 0.5em 0.4em;box-sizing: border-box;padding-bottom: 0.4em;background-color: white;}#sk-container-id-1 div.sk-label label {font-family: monospace;font-weight: bold;display: inline-block;line-height: 1.2em;}#sk-container-id-1 div.sk-label-container {text-align: center;}#sk-container-id-1 div.sk-container {/* jupyter's `normalize.less` sets `[hidden] { display: none; }` but bootstrap.min.css set `[hidden] { display: none !important; }` so we also need the `!important` here to be able to override the default hidden behavior on the sphinx rendered scikit-learn.org. See: https://github.com/scikit-learn/scikit-learn/issues/21755 */display: inline-block !important;position: relative;}#sk-container-id-1 div.sk-text-repr-fallback {display: none;}</style><div id=\"sk-container-id-1\" class=\"sk-top-container\"><div class=\"sk-text-repr-fallback\"><pre>LogisticRegression()</pre><b>In a Jupyter environment, please rerun this cell to show the HTML representation or trust the notebook. <br />On GitHub, the HTML representation is unable to render, please try loading this page with nbviewer.org.</b></div><div class=\"sk-container\" hidden><div class=\"sk-item\"><div class=\"sk-estimator sk-toggleable\"><input class=\"sk-toggleable__control sk-hidden--visually\" id=\"sk-estimator-id-1\" type=\"checkbox\" checked><label for=\"sk-estimator-id-1\" class=\"sk-toggleable__label sk-toggleable__label-arrow\">LogisticRegression</label><div class=\"sk-toggleable__content\"><pre>LogisticRegression()</pre></div></div></div></div></div>"
      ],
      "text/plain": [
       "LogisticRegression()"
      ]
     },
     "execution_count": 23,
     "metadata": {},
     "output_type": "execute_result"
    }
   ],
   "source": [
    "from sklearn.linear_model import LogisticRegression\n",
    "\n",
    "LR_model = LogisticRegression()\n",
    "LR_model.fit(xv_train, y_train)"
   ]
  },
  {
   "cell_type": "code",
   "execution_count": 24,
   "id": "e56cf73f",
   "metadata": {},
   "outputs": [
    {
     "data": {
      "text/plain": [
       "0.989572192513369"
      ]
     },
     "execution_count": 24,
     "metadata": {},
     "output_type": "execute_result"
    }
   ],
   "source": [
    "pred_lr = LR_model.predict(xv_test)\n",
    "LR_model.score(xv_test, y_test)"
   ]
  },
  {
   "cell_type": "code",
   "execution_count": 25,
   "id": "108aae3b",
   "metadata": {},
   "outputs": [
    {
     "name": "stdout",
     "output_type": "stream",
     "text": [
      "              precision    recall  f1-score   support\n",
      "\n",
      "           0       0.99      0.99      0.99      5889\n",
      "           1       0.99      0.99      0.99      5331\n",
      "\n",
      "    accuracy                           0.99     11220\n",
      "   macro avg       0.99      0.99      0.99     11220\n",
      "weighted avg       0.99      0.99      0.99     11220\n",
      "\n"
     ]
    }
   ],
   "source": [
    "print(classification_report(y_test, pred_lr))"
   ]
  },
  {
   "cell_type": "markdown",
   "id": "6fb9c2f1",
   "metadata": {},
   "source": [
    "## Decision Tree Classifier\n",
    "\n",
    "This code block involves training a Decision Tree classifier using the TF-IDF vectors obtained from the text data.\n",
    "\n",
    "1. **Import DecisionTreeClassifier:**\n",
    "   - Imports the `DecisionTreeClassifier` class from the `sklearn.tree` module.\n",
    "\n",
    "2. **Instantiate Decision Tree Classifier:**\n",
    "   - `DT_model = DecisionTreeClassifier()`: Instantiates a Decision Tree classifier object named `DT_model`.\n",
    "\n",
    "3. **Fit Model to Training Data:**\n",
    "   - `DT_model.fit(xv_train, y_train)`: Fits the Decision Tree classifier (`DT_model`) to the TF-IDF transformed training data (`xv_train`) along with their corresponding labels (`y_train`). This step trains the model to learn the patterns in the feature-label relationship.\n",
    "\n",
    "4. **Make Predictions:**\n",
    "   - `pred_dt = DT_model.predict(xv_test)`: Uses the trained Decision Tree classifier (`DT_model`) to make predictions on the TF-IDF transformed testing data (`xv_test`). The predicted labels are stored in the variable `pred_dt`.\n",
    "\n",
    "5. **Model Evaluation:**\n",
    "   - `DT_model.score(xv_test, y_test)`: Calculates the accuracy score of the Decision Tree classifier on the testing data (`xv_test`) and their corresponding true labels (`y_test`).\n",
    "\n",
    "6. **Print Classification Report:**\n",
    "   - `print(classification_report(y_test, pred_dt))`: Prints a classification report which includes precision, recall, F1-score, and support for each class, based on the true labels (`y_test`) and the predicted labels (`pred_dt`). This report provides a comprehensive evaluation of the model's performance on the testing data.\n",
    "\n",
    "This code demonstrates the process of training a Decision Tree classifier, making predictions, evaluating its performance, and printing a classification report to assess its effectiveness in classifying text data.\n"
   ]
  },
  {
   "cell_type": "code",
   "execution_count": 26,
   "id": "1fae564d",
   "metadata": {},
   "outputs": [
    {
     "data": {
      "text/html": [
       "<style>#sk-container-id-2 {color: black;}#sk-container-id-2 pre{padding: 0;}#sk-container-id-2 div.sk-toggleable {background-color: white;}#sk-container-id-2 label.sk-toggleable__label {cursor: pointer;display: block;width: 100%;margin-bottom: 0;padding: 0.3em;box-sizing: border-box;text-align: center;}#sk-container-id-2 label.sk-toggleable__label-arrow:before {content: \"▸\";float: left;margin-right: 0.25em;color: #696969;}#sk-container-id-2 label.sk-toggleable__label-arrow:hover:before {color: black;}#sk-container-id-2 div.sk-estimator:hover label.sk-toggleable__label-arrow:before {color: black;}#sk-container-id-2 div.sk-toggleable__content {max-height: 0;max-width: 0;overflow: hidden;text-align: left;background-color: #f0f8ff;}#sk-container-id-2 div.sk-toggleable__content pre {margin: 0.2em;color: black;border-radius: 0.25em;background-color: #f0f8ff;}#sk-container-id-2 input.sk-toggleable__control:checked~div.sk-toggleable__content {max-height: 200px;max-width: 100%;overflow: auto;}#sk-container-id-2 input.sk-toggleable__control:checked~label.sk-toggleable__label-arrow:before {content: \"▾\";}#sk-container-id-2 div.sk-estimator input.sk-toggleable__control:checked~label.sk-toggleable__label {background-color: #d4ebff;}#sk-container-id-2 div.sk-label input.sk-toggleable__control:checked~label.sk-toggleable__label {background-color: #d4ebff;}#sk-container-id-2 input.sk-hidden--visually {border: 0;clip: rect(1px 1px 1px 1px);clip: rect(1px, 1px, 1px, 1px);height: 1px;margin: -1px;overflow: hidden;padding: 0;position: absolute;width: 1px;}#sk-container-id-2 div.sk-estimator {font-family: monospace;background-color: #f0f8ff;border: 1px dotted black;border-radius: 0.25em;box-sizing: border-box;margin-bottom: 0.5em;}#sk-container-id-2 div.sk-estimator:hover {background-color: #d4ebff;}#sk-container-id-2 div.sk-parallel-item::after {content: \"\";width: 100%;border-bottom: 1px solid gray;flex-grow: 1;}#sk-container-id-2 div.sk-label:hover label.sk-toggleable__label {background-color: #d4ebff;}#sk-container-id-2 div.sk-serial::before {content: \"\";position: absolute;border-left: 1px solid gray;box-sizing: border-box;top: 0;bottom: 0;left: 50%;z-index: 0;}#sk-container-id-2 div.sk-serial {display: flex;flex-direction: column;align-items: center;background-color: white;padding-right: 0.2em;padding-left: 0.2em;position: relative;}#sk-container-id-2 div.sk-item {position: relative;z-index: 1;}#sk-container-id-2 div.sk-parallel {display: flex;align-items: stretch;justify-content: center;background-color: white;position: relative;}#sk-container-id-2 div.sk-item::before, #sk-container-id-2 div.sk-parallel-item::before {content: \"\";position: absolute;border-left: 1px solid gray;box-sizing: border-box;top: 0;bottom: 0;left: 50%;z-index: -1;}#sk-container-id-2 div.sk-parallel-item {display: flex;flex-direction: column;z-index: 1;position: relative;background-color: white;}#sk-container-id-2 div.sk-parallel-item:first-child::after {align-self: flex-end;width: 50%;}#sk-container-id-2 div.sk-parallel-item:last-child::after {align-self: flex-start;width: 50%;}#sk-container-id-2 div.sk-parallel-item:only-child::after {width: 0;}#sk-container-id-2 div.sk-dashed-wrapped {border: 1px dashed gray;margin: 0 0.4em 0.5em 0.4em;box-sizing: border-box;padding-bottom: 0.4em;background-color: white;}#sk-container-id-2 div.sk-label label {font-family: monospace;font-weight: bold;display: inline-block;line-height: 1.2em;}#sk-container-id-2 div.sk-label-container {text-align: center;}#sk-container-id-2 div.sk-container {/* jupyter's `normalize.less` sets `[hidden] { display: none; }` but bootstrap.min.css set `[hidden] { display: none !important; }` so we also need the `!important` here to be able to override the default hidden behavior on the sphinx rendered scikit-learn.org. See: https://github.com/scikit-learn/scikit-learn/issues/21755 */display: inline-block !important;position: relative;}#sk-container-id-2 div.sk-text-repr-fallback {display: none;}</style><div id=\"sk-container-id-2\" class=\"sk-top-container\"><div class=\"sk-text-repr-fallback\"><pre>DecisionTreeClassifier()</pre><b>In a Jupyter environment, please rerun this cell to show the HTML representation or trust the notebook. <br />On GitHub, the HTML representation is unable to render, please try loading this page with nbviewer.org.</b></div><div class=\"sk-container\" hidden><div class=\"sk-item\"><div class=\"sk-estimator sk-toggleable\"><input class=\"sk-toggleable__control sk-hidden--visually\" id=\"sk-estimator-id-2\" type=\"checkbox\" checked><label for=\"sk-estimator-id-2\" class=\"sk-toggleable__label sk-toggleable__label-arrow\">DecisionTreeClassifier</label><div class=\"sk-toggleable__content\"><pre>DecisionTreeClassifier()</pre></div></div></div></div></div>"
      ],
      "text/plain": [
       "DecisionTreeClassifier()"
      ]
     },
     "execution_count": 26,
     "metadata": {},
     "output_type": "execute_result"
    }
   ],
   "source": [
    "from sklearn.tree import DecisionTreeClassifier\n",
    "\n",
    "DT_model = DecisionTreeClassifier()\n",
    "DT_model.fit(xv_train, y_train)"
   ]
  },
  {
   "cell_type": "code",
   "execution_count": 27,
   "id": "bef7a8fa",
   "metadata": {},
   "outputs": [
    {
     "data": {
      "text/plain": [
       "0.995632798573975"
      ]
     },
     "execution_count": 27,
     "metadata": {},
     "output_type": "execute_result"
    }
   ],
   "source": [
    "pred_dt = DT_model.predict(xv_test)\n",
    "DT_model.score(xv_test, y_test)\n"
   ]
  },
  {
   "cell_type": "code",
   "execution_count": 28,
   "id": "d06175d9",
   "metadata": {},
   "outputs": [
    {
     "name": "stdout",
     "output_type": "stream",
     "text": [
      "              precision    recall  f1-score   support\n",
      "\n",
      "           0       0.99      1.00      1.00      5889\n",
      "           1       1.00      0.99      1.00      5331\n",
      "\n",
      "    accuracy                           1.00     11220\n",
      "   macro avg       1.00      1.00      1.00     11220\n",
      "weighted avg       1.00      1.00      1.00     11220\n",
      "\n"
     ]
    }
   ],
   "source": [
    "print(classification_report(y_test, pred_dt))\n",
    "\n"
   ]
  },
  {
   "cell_type": "markdown",
   "id": "20881d55",
   "metadata": {},
   "source": [
    "## Gradient Boosting Classifier\n",
    "\n",
    "This code segment involves training a Gradient Boosting classifier using the TF-IDF vectors obtained from the text data.\n",
    "\n",
    "1. **Import GradientBoostingClassifier:**\n",
    "   - Imports the `GradientBoostingClassifier` class from the `sklearn.ensemble` module.\n",
    "\n",
    "2. **Instantiate Gradient Boosting Classifier:**\n",
    "   - `GB_model = GradientBoostingClassifier(random_state=0)`: Instantiates a Gradient Boosting classifier object named `GB_model`. The parameter `random_state=0` ensures reproducibility of results by fixing the random seed.\n",
    "\n",
    "3. **Fit Model to Training Data:**\n",
    "   - `GB_model.fit(xv_train, y_train)`: Fits the Gradient Boosting classifier (`GB_model`) to the TF-IDF transformed training data (`xv_train`) along with their corresponding labels (`y_train`). This step trains the model to learn the patterns in the feature-label relationship.\n",
    "\n",
    "4. **Make Predictions:**\n",
    "   - `pred_gb = GB_model.predict(xv_test)`: Uses the trained Gradient Boosting classifier (`GB_model`) to make predictions on the TF-IDF transformed testing data (`xv_test`). The predicted labels are stored in the variable `pred_gb`.\n",
    "\n",
    "5. **Model Evaluation:**\n",
    "   - `GB_model.score(xv_test, y_test)`: Calculates the accuracy score of the Gradient Boosting classifier on the testing data (`xv_test`) and their corresponding true labels (`y_test`).\n",
    "\n",
    "6. **Print Classification Report:**\n",
    "   - `print(classification_report(y_test, pred_gb))`: Prints a classification report which includes precision, recall, F1-score, and support for each class, based on the true labels (`y_test`) and the predicted labels (`pred_gb`). This report provides a comprehensive evaluation of the model's performance on the testing data.\n",
    "\n",
    "This code demonstrates the process of training a Gradient Boosting classifier, making predictions, evaluating its performance, and printing a classification report to assess its effectiveness in classifying text data.\n"
   ]
  },
  {
   "cell_type": "code",
   "execution_count": 29,
   "id": "18300f81",
   "metadata": {},
   "outputs": [
    {
     "data": {
      "text/html": [
       "<style>#sk-container-id-3 {color: black;}#sk-container-id-3 pre{padding: 0;}#sk-container-id-3 div.sk-toggleable {background-color: white;}#sk-container-id-3 label.sk-toggleable__label {cursor: pointer;display: block;width: 100%;margin-bottom: 0;padding: 0.3em;box-sizing: border-box;text-align: center;}#sk-container-id-3 label.sk-toggleable__label-arrow:before {content: \"▸\";float: left;margin-right: 0.25em;color: #696969;}#sk-container-id-3 label.sk-toggleable__label-arrow:hover:before {color: black;}#sk-container-id-3 div.sk-estimator:hover label.sk-toggleable__label-arrow:before {color: black;}#sk-container-id-3 div.sk-toggleable__content {max-height: 0;max-width: 0;overflow: hidden;text-align: left;background-color: #f0f8ff;}#sk-container-id-3 div.sk-toggleable__content pre {margin: 0.2em;color: black;border-radius: 0.25em;background-color: #f0f8ff;}#sk-container-id-3 input.sk-toggleable__control:checked~div.sk-toggleable__content {max-height: 200px;max-width: 100%;overflow: auto;}#sk-container-id-3 input.sk-toggleable__control:checked~label.sk-toggleable__label-arrow:before {content: \"▾\";}#sk-container-id-3 div.sk-estimator input.sk-toggleable__control:checked~label.sk-toggleable__label {background-color: #d4ebff;}#sk-container-id-3 div.sk-label input.sk-toggleable__control:checked~label.sk-toggleable__label {background-color: #d4ebff;}#sk-container-id-3 input.sk-hidden--visually {border: 0;clip: rect(1px 1px 1px 1px);clip: rect(1px, 1px, 1px, 1px);height: 1px;margin: -1px;overflow: hidden;padding: 0;position: absolute;width: 1px;}#sk-container-id-3 div.sk-estimator {font-family: monospace;background-color: #f0f8ff;border: 1px dotted black;border-radius: 0.25em;box-sizing: border-box;margin-bottom: 0.5em;}#sk-container-id-3 div.sk-estimator:hover {background-color: #d4ebff;}#sk-container-id-3 div.sk-parallel-item::after {content: \"\";width: 100%;border-bottom: 1px solid gray;flex-grow: 1;}#sk-container-id-3 div.sk-label:hover label.sk-toggleable__label {background-color: #d4ebff;}#sk-container-id-3 div.sk-serial::before {content: \"\";position: absolute;border-left: 1px solid gray;box-sizing: border-box;top: 0;bottom: 0;left: 50%;z-index: 0;}#sk-container-id-3 div.sk-serial {display: flex;flex-direction: column;align-items: center;background-color: white;padding-right: 0.2em;padding-left: 0.2em;position: relative;}#sk-container-id-3 div.sk-item {position: relative;z-index: 1;}#sk-container-id-3 div.sk-parallel {display: flex;align-items: stretch;justify-content: center;background-color: white;position: relative;}#sk-container-id-3 div.sk-item::before, #sk-container-id-3 div.sk-parallel-item::before {content: \"\";position: absolute;border-left: 1px solid gray;box-sizing: border-box;top: 0;bottom: 0;left: 50%;z-index: -1;}#sk-container-id-3 div.sk-parallel-item {display: flex;flex-direction: column;z-index: 1;position: relative;background-color: white;}#sk-container-id-3 div.sk-parallel-item:first-child::after {align-self: flex-end;width: 50%;}#sk-container-id-3 div.sk-parallel-item:last-child::after {align-self: flex-start;width: 50%;}#sk-container-id-3 div.sk-parallel-item:only-child::after {width: 0;}#sk-container-id-3 div.sk-dashed-wrapped {border: 1px dashed gray;margin: 0 0.4em 0.5em 0.4em;box-sizing: border-box;padding-bottom: 0.4em;background-color: white;}#sk-container-id-3 div.sk-label label {font-family: monospace;font-weight: bold;display: inline-block;line-height: 1.2em;}#sk-container-id-3 div.sk-label-container {text-align: center;}#sk-container-id-3 div.sk-container {/* jupyter's `normalize.less` sets `[hidden] { display: none; }` but bootstrap.min.css set `[hidden] { display: none !important; }` so we also need the `!important` here to be able to override the default hidden behavior on the sphinx rendered scikit-learn.org. See: https://github.com/scikit-learn/scikit-learn/issues/21755 */display: inline-block !important;position: relative;}#sk-container-id-3 div.sk-text-repr-fallback {display: none;}</style><div id=\"sk-container-id-3\" class=\"sk-top-container\"><div class=\"sk-text-repr-fallback\"><pre>GradientBoostingClassifier(random_state=0)</pre><b>In a Jupyter environment, please rerun this cell to show the HTML representation or trust the notebook. <br />On GitHub, the HTML representation is unable to render, please try loading this page with nbviewer.org.</b></div><div class=\"sk-container\" hidden><div class=\"sk-item\"><div class=\"sk-estimator sk-toggleable\"><input class=\"sk-toggleable__control sk-hidden--visually\" id=\"sk-estimator-id-3\" type=\"checkbox\" checked><label for=\"sk-estimator-id-3\" class=\"sk-toggleable__label sk-toggleable__label-arrow\">GradientBoostingClassifier</label><div class=\"sk-toggleable__content\"><pre>GradientBoostingClassifier(random_state=0)</pre></div></div></div></div></div>"
      ],
      "text/plain": [
       "GradientBoostingClassifier(random_state=0)"
      ]
     },
     "execution_count": 29,
     "metadata": {},
     "output_type": "execute_result"
    }
   ],
   "source": [
    "from sklearn.ensemble import GradientBoostingClassifier\n",
    "\n",
    "GB_model = GradientBoostingClassifier(random_state = 0)\n",
    "GB_model.fit(xv_train, y_train)"
   ]
  },
  {
   "cell_type": "code",
   "execution_count": 30,
   "id": "30481517",
   "metadata": {},
   "outputs": [
    {
     "data": {
      "text/plain": [
       "0.9958110516934047"
      ]
     },
     "execution_count": 30,
     "metadata": {},
     "output_type": "execute_result"
    }
   ],
   "source": [
    "pred_gb = GB_model.predict(xv_test)\n",
    "GB_model.score(xv_test, y_test)"
   ]
  },
  {
   "cell_type": "code",
   "execution_count": 31,
   "id": "25a8938d",
   "metadata": {},
   "outputs": [
    {
     "name": "stdout",
     "output_type": "stream",
     "text": [
      "              precision    recall  f1-score   support\n",
      "\n",
      "           0       1.00      0.99      1.00      5889\n",
      "           1       0.99      1.00      1.00      5331\n",
      "\n",
      "    accuracy                           1.00     11220\n",
      "   macro avg       1.00      1.00      1.00     11220\n",
      "weighted avg       1.00      1.00      1.00     11220\n",
      "\n"
     ]
    }
   ],
   "source": [
    "print(classification_report(y_test, pred_gb))\n",
    "\n",
    "\n"
   ]
  },
  {
   "cell_type": "markdown",
   "id": "c279be56",
   "metadata": {},
   "source": [
    "## Random Forest Classifier\n",
    "\n",
    "This code block involves training a Random Forest classifier using the TF-IDF vectors obtained from the text data.\n",
    "\n",
    "1. **Import RandomForestClassifier:**\n",
    "   - Imports the `RandomForestClassifier` class from the `sklearn.ensemble` module.\n",
    "\n",
    "2. **Instantiate Random Forest Classifier:**\n",
    "   - `RF_model = RandomForestClassifier(random_state=0)`: Instantiates a Random Forest classifier object named `RF_model`. The parameter `random_state=0` ensures reproducibility of results by fixing the random seed.\n",
    "\n",
    "3. **Fit Model to Training Data:**\n",
    "   - `RF_model.fit(xv_train, y_train)`: Fits the Random Forest classifier (`RF_model`) to the TF-IDF transformed training data (`xv_train`) along with their corresponding labels (`y_train`). This step trains the model to learn the patterns in the feature-label relationship.\n",
    "\n",
    "4. **Make Predictions:**\n",
    "   - `pred_rf = RF_model.predict(xv_test)`: Uses the trained Random Forest classifier (`RF_model`) to make predictions on the TF-IDF transformed testing data (`xv_test`). The predicted labels are stored in the variable `pred_rf`.\n",
    "\n",
    "5. **Model Evaluation:**\n",
    "   - `RF_model.score(xv_test, y_test)`: Calculates the accuracy score of the Random Forest classifier on the testing data (`xv_test`) and their corresponding true labels (`y_test`).\n",
    "\n",
    "6. **Print Classification Report:**\n",
    "   - `print(classification_report(y_test, pred_rf))`: Prints a classification report which includes precision, recall, F1-score, and support for each class, based on the true labels (`y_test`) and the predicted labels (`pred_rf`). This report provides a comprehensive evaluation of the model's performance on the testing data.\n",
    "\n",
    "This code demonstrates the process of training a Random Forest classifier, making predictions, evaluating its performance, and printing a classification report to assess its effectiveness in classifying text data.\n"
   ]
  },
  {
   "cell_type": "code",
   "execution_count": 32,
   "id": "571206a3",
   "metadata": {},
   "outputs": [
    {
     "data": {
      "text/html": [
       "<style>#sk-container-id-4 {color: black;}#sk-container-id-4 pre{padding: 0;}#sk-container-id-4 div.sk-toggleable {background-color: white;}#sk-container-id-4 label.sk-toggleable__label {cursor: pointer;display: block;width: 100%;margin-bottom: 0;padding: 0.3em;box-sizing: border-box;text-align: center;}#sk-container-id-4 label.sk-toggleable__label-arrow:before {content: \"▸\";float: left;margin-right: 0.25em;color: #696969;}#sk-container-id-4 label.sk-toggleable__label-arrow:hover:before {color: black;}#sk-container-id-4 div.sk-estimator:hover label.sk-toggleable__label-arrow:before {color: black;}#sk-container-id-4 div.sk-toggleable__content {max-height: 0;max-width: 0;overflow: hidden;text-align: left;background-color: #f0f8ff;}#sk-container-id-4 div.sk-toggleable__content pre {margin: 0.2em;color: black;border-radius: 0.25em;background-color: #f0f8ff;}#sk-container-id-4 input.sk-toggleable__control:checked~div.sk-toggleable__content {max-height: 200px;max-width: 100%;overflow: auto;}#sk-container-id-4 input.sk-toggleable__control:checked~label.sk-toggleable__label-arrow:before {content: \"▾\";}#sk-container-id-4 div.sk-estimator input.sk-toggleable__control:checked~label.sk-toggleable__label {background-color: #d4ebff;}#sk-container-id-4 div.sk-label input.sk-toggleable__control:checked~label.sk-toggleable__label {background-color: #d4ebff;}#sk-container-id-4 input.sk-hidden--visually {border: 0;clip: rect(1px 1px 1px 1px);clip: rect(1px, 1px, 1px, 1px);height: 1px;margin: -1px;overflow: hidden;padding: 0;position: absolute;width: 1px;}#sk-container-id-4 div.sk-estimator {font-family: monospace;background-color: #f0f8ff;border: 1px dotted black;border-radius: 0.25em;box-sizing: border-box;margin-bottom: 0.5em;}#sk-container-id-4 div.sk-estimator:hover {background-color: #d4ebff;}#sk-container-id-4 div.sk-parallel-item::after {content: \"\";width: 100%;border-bottom: 1px solid gray;flex-grow: 1;}#sk-container-id-4 div.sk-label:hover label.sk-toggleable__label {background-color: #d4ebff;}#sk-container-id-4 div.sk-serial::before {content: \"\";position: absolute;border-left: 1px solid gray;box-sizing: border-box;top: 0;bottom: 0;left: 50%;z-index: 0;}#sk-container-id-4 div.sk-serial {display: flex;flex-direction: column;align-items: center;background-color: white;padding-right: 0.2em;padding-left: 0.2em;position: relative;}#sk-container-id-4 div.sk-item {position: relative;z-index: 1;}#sk-container-id-4 div.sk-parallel {display: flex;align-items: stretch;justify-content: center;background-color: white;position: relative;}#sk-container-id-4 div.sk-item::before, #sk-container-id-4 div.sk-parallel-item::before {content: \"\";position: absolute;border-left: 1px solid gray;box-sizing: border-box;top: 0;bottom: 0;left: 50%;z-index: -1;}#sk-container-id-4 div.sk-parallel-item {display: flex;flex-direction: column;z-index: 1;position: relative;background-color: white;}#sk-container-id-4 div.sk-parallel-item:first-child::after {align-self: flex-end;width: 50%;}#sk-container-id-4 div.sk-parallel-item:last-child::after {align-self: flex-start;width: 50%;}#sk-container-id-4 div.sk-parallel-item:only-child::after {width: 0;}#sk-container-id-4 div.sk-dashed-wrapped {border: 1px dashed gray;margin: 0 0.4em 0.5em 0.4em;box-sizing: border-box;padding-bottom: 0.4em;background-color: white;}#sk-container-id-4 div.sk-label label {font-family: monospace;font-weight: bold;display: inline-block;line-height: 1.2em;}#sk-container-id-4 div.sk-label-container {text-align: center;}#sk-container-id-4 div.sk-container {/* jupyter's `normalize.less` sets `[hidden] { display: none; }` but bootstrap.min.css set `[hidden] { display: none !important; }` so we also need the `!important` here to be able to override the default hidden behavior on the sphinx rendered scikit-learn.org. See: https://github.com/scikit-learn/scikit-learn/issues/21755 */display: inline-block !important;position: relative;}#sk-container-id-4 div.sk-text-repr-fallback {display: none;}</style><div id=\"sk-container-id-4\" class=\"sk-top-container\"><div class=\"sk-text-repr-fallback\"><pre>RandomForestClassifier(random_state=0)</pre><b>In a Jupyter environment, please rerun this cell to show the HTML representation or trust the notebook. <br />On GitHub, the HTML representation is unable to render, please try loading this page with nbviewer.org.</b></div><div class=\"sk-container\" hidden><div class=\"sk-item\"><div class=\"sk-estimator sk-toggleable\"><input class=\"sk-toggleable__control sk-hidden--visually\" id=\"sk-estimator-id-4\" type=\"checkbox\" checked><label for=\"sk-estimator-id-4\" class=\"sk-toggleable__label sk-toggleable__label-arrow\">RandomForestClassifier</label><div class=\"sk-toggleable__content\"><pre>RandomForestClassifier(random_state=0)</pre></div></div></div></div></div>"
      ],
      "text/plain": [
       "RandomForestClassifier(random_state=0)"
      ]
     },
     "execution_count": 32,
     "metadata": {},
     "output_type": "execute_result"
    }
   ],
   "source": [
    "from sklearn.ensemble import RandomForestClassifier\n",
    "\n",
    "RF_model = RandomForestClassifier(random_state = 0)\n",
    "RF_model.fit(xv_train, y_train)"
   ]
  },
  {
   "cell_type": "code",
   "execution_count": 33,
   "id": "073f59cf",
   "metadata": {},
   "outputs": [
    {
     "data": {
      "text/plain": [
       "0.990463458110517"
      ]
     },
     "execution_count": 33,
     "metadata": {},
     "output_type": "execute_result"
    }
   ],
   "source": [
    "pred_rf = RF_model.predict(xv_test)\n",
    "RF_model.score(xv_test, y_test)"
   ]
  },
  {
   "cell_type": "code",
   "execution_count": 34,
   "id": "3c490303",
   "metadata": {},
   "outputs": [
    {
     "name": "stdout",
     "output_type": "stream",
     "text": [
      "              precision    recall  f1-score   support\n",
      "\n",
      "           0       0.99      0.99      0.99      5889\n",
      "           1       0.99      0.99      0.99      5331\n",
      "\n",
      "    accuracy                           0.99     11220\n",
      "   macro avg       0.99      0.99      0.99     11220\n",
      "weighted avg       0.99      0.99      0.99     11220\n",
      "\n"
     ]
    }
   ],
   "source": [
    "print(classification_report(y_test, pred_rf))"
   ]
  },
  {
   "cell_type": "code",
   "execution_count": 35,
   "id": "9a8325c1",
   "metadata": {},
   "outputs": [
    {
     "data": {
      "image/png": "[encoded data removed]",
      "text/plain": [
       "<Figure size 1200x1000 with 8 Axes>"
      ]
     },
     "metadata": {},
     "output_type": "display_data"
    }
   ],
   "source": [
    "import matplotlib.pyplot as plt\n",
    "import seaborn as sns\n",
    "from sklearn.metrics import confusion_matrix\n",
    "\n",
    "# Calculate confusion matrices\n",
    "cm_lr = confusion_matrix(y_test, pred_lr)\n",
    "cm_dt = confusion_matrix(y_test, pred_dt)\n",
    "cm_gb = confusion_matrix(y_test, pred_gb)\n",
    "cm_rf = confusion_matrix(y_test, pred_rf)\n",
    "\n",
    "# Plot confusion matrices\n",
    "fig, axs = plt.subplots(2, 2, figsize=(12, 10))\n",
    "\n",
    "# Logistic Regression\n",
    "sns.heatmap(cm_lr, annot=True, fmt='d', cmap='Blues', ax=axs[0, 0])\n",
    "axs[0, 0].set_title('Logistic Regression')\n",
    "axs[0, 0].set_xlabel('Predicted')\n",
    "axs[0, 0].set_ylabel('Actual')\n",
    "\n",
    "# Decision Tree\n",
    "sns.heatmap(cm_dt, annot=True, fmt='d', cmap='Blues', ax=axs[0, 1])\n",
    "axs[0, 1].set_title('Decision Tree')\n",
    "axs[0, 1].set_xlabel('Predicted')\n",
    "axs[0, 1].set_ylabel('Actual')\n",
    "\n",
    "# Gradient Boosting\n",
    "sns.heatmap(cm_gb, annot=True, fmt='d', cmap='Blues', ax=axs[1, 0])\n",
    "axs[1, 0].set_title('Gradient Boosting')\n",
    "axs[1, 0].set_xlabel('Predicted')\n",
    "axs[1, 0].set_ylabel('Actual')\n",
    "\n",
    "# Random Forest\n",
    "sns.heatmap(cm_rf, annot=True, fmt='d', cmap='Blues', ax=axs[1, 1])\n",
    "axs[1, 1].set_title('Random Forest')\n",
    "axs[1, 1].set_xlabel('Predicted')\n",
    "axs[1, 1].set_ylabel('Actual')\n",
    "\n",
    "plt.tight_layout()\n",
    "plt.show()\n"
   ]
  },
  {
   "cell_type": "markdown",
   "id": "766a1483",
   "metadata": {},
   "source": [
    "## RNN"
   ]
  },
  {
   "cell_type": "markdown",
   "id": "1979f107",
   "metadata": {},
   "source": [
    "### Importing necessary modules\n",
    "\n",
    "This code imports necessary modules from TensorFlow for building and training a deep learning model for text classification. Here's a breakdown of the imports:\n",
    "\n",
    "1. **Import TensorFlow:**\n",
    "   - `import tensorflow as tf`: Imports the TensorFlow library for building and training deep learning models.\n",
    "\n",
    "2. **Import Tokenizer and Pad Sequences:**\n",
    "   - `from tensorflow.keras.preprocessing.sequence import pad_sequences`: Imports the `pad_sequences` function from `tensorflow.keras.preprocessing.sequence`. This function is used to pad sequences to ensure uniform length.\n",
    "   - `from tensorflow.keras.preprocessing.text import Tokenizer`: Imports the `Tokenizer` class from `tensorflow.keras.preprocessing.text`. This class is used to tokenize text data into sequences of integers.\n",
    "\n",
    "3. **Import Sequential Model and Layers:**\n",
    "   - `from tensorflow.keras.models import Sequential`: Imports the `Sequential` class from `tensorflow.keras.models`. This class allows for building a sequential model where layers are stacked sequentially.\n",
    "   - `from tensorflow.keras.layers import Embedding, LSTM, Bidirectional, Dense, Dropout`: Imports various layers such as `Embedding`, `LSTM`, `Bidirectional`, `Dense`, and `Dropout` from `tensorflow.keras.layers`. These layers are building blocks for constructing deep learning models for text classification.\n",
    "\n",
    "This code sets up the necessary modules and layers to build a deep learning model for text classification using TensorFlow.\n"
   ]
  },
  {
   "cell_type": "code",
   "execution_count": 36,
   "id": "ac223c9f",
   "metadata": {},
   "outputs": [
    {
     "name": "stdout",
     "output_type": "stream",
     "text": [
      "WARNING:tensorflow:From C:\\Users\\akash\\anaconda3\\Lib\\site-packages\\keras\\src\\losses.py:2976: The name tf.losses.sparse_softmax_cross_entropy is deprecated. Please use tf.compat.v1.losses.sparse_softmax_cross_entropy instead.\n",
      "\n"
     ]
    }
   ],
   "source": [
    "import tensorflow as tf\n",
    "from tensorflow.keras.preprocessing.sequence import pad_sequences\n",
    "from tensorflow.keras.preprocessing.text import Tokenizer\n",
    "from tensorflow.keras.models import Sequential\n",
    "from tensorflow.keras.layers import Embedding, LSTM, Bidirectional, Dense, Dropout\n"
   ]
  },
  {
   "cell_type": "markdown",
   "id": "983678a0",
   "metadata": {},
   "source": [
    "### Tokenizing training text data\n",
    "\n",
    "This code segment involves tokenizing the training text data using the `Tokenizer` class from TensorFlow. Here's what each line does:\n",
    "\n",
    "1. **Set Maximum Vocabulary Size:**\n",
    "   - `max_vocab = 10000`: Defines the maximum vocabulary size to consider during tokenization. This value represents the maximum number of unique words to be considered in the vocabulary.\n",
    "\n",
    "2. **Instantiate Tokenizer:**\n",
    "   - `tokenizer = Tokenizer(num_words=max_vocab)`: Instantiates a `Tokenizer` object named `tokenizer`. The parameter `num_words=max_vocab` specifies the maximum number of words to be kept in the vocabulary. Words that are not included in the vocabulary will be ignored during tokenization.\n",
    "\n",
    "3. **Fit Tokenizer on Training Data:**\n",
    "   - `tokenizer.fit_on_texts(x_train)`: Fits the `Tokenizer` object (`tokenizer`) to the training text data (`x_train`). This step updates the internal vocabulary based on the text data and assigns a unique integer index to each word in the vocabulary.\n",
    "\n",
    "By tokenizing the training text data, the `Tokenizer` object prepares the text for further processing and model training, converting each word into a unique integer index based on its frequency in the dataset.\n"
   ]
  },
  {
   "cell_type": "code",
   "execution_count": 37,
   "id": "4de5b1af",
   "metadata": {},
   "outputs": [],
   "source": [
    "max_vocab = 10000\n",
    "tokenizer = Tokenizer(num_words=max_vocab)\n",
    "tokenizer.fit_on_texts(x_train)"
   ]
  },
  {
   "cell_type": "markdown",
   "id": "6b4adefb",
   "metadata": {},
   "source": [
    "### Converting tokenized text sequences into padded sequences\n",
    "\n",
    "This code segment involves converting the tokenized text sequences into padded sequences suitable for input to a deep learning model. Here's what each line does:\n",
    "\n",
    "1. **Convert Texts to Sequences:**\n",
    "   - `x_train_seq = tokenizer.texts_to_sequences(x_train)`: Converts the tokenized training text sequences (`x_train`) into sequences of integer indices using the `texts_to_sequences` method of the `tokenizer` object. Each word in the text is replaced by its corresponding integer index from the tokenizer's vocabulary.\n",
    "   - `x_test_seq = tokenizer.texts_to_sequences(x_test)`: Converts the tokenized testing text sequences (`x_test`) into sequences of integer indices using the same `texts_to_sequences` method.\n",
    "\n",
    "2. **Pad Sequences:**\n",
    "   - `x_train_pad = pad_sequences(x_train_seq, padding='post', maxlen=256)`: Pads the sequences of integer indices in the training set (`x_train_seq`) to ensure uniform length. Sequences shorter than the specified `maxlen` (256) are padded with zeros at the end (`padding='post'`). Longer sequences are truncated to match the `maxlen`.\n",
    "   - `x_test_pad = pad_sequences(x_test_seq, padding='post', maxlen=256)`: Pads the sequences of integer indices in the testing set (`x_test_seq`) using the same parameters as the training set.\n",
    "\n",
    "By converting the tokenized text sequences into padded sequences, the data is prepared for input to a deep learning model, ensuring that all input sequences have the same length for efficient processing.\n"
   ]
  },
  {
   "cell_type": "code",
   "execution_count": 38,
   "id": "0c9a4bd3",
   "metadata": {},
   "outputs": [],
   "source": [
    "x_train_seq = tokenizer.texts_to_sequences(x_train)\n",
    "x_test_seq = tokenizer.texts_to_sequences(x_test)\n",
    "x_train_pad = pad_sequences(x_train_seq, padding='post', maxlen=256)\n",
    "x_test_pad = pad_sequences(x_test_seq, padding='post', maxlen=256)\n"
   ]
  },
  {
   "cell_type": "markdown",
   "id": "009dcddf",
   "metadata": {},
   "source": [
    "### Deep Learning Model Architecture\n",
    "\n",
    "This code defines a deep learning model architecture using TensorFlow's `Sequential` API. Here's a breakdown of the model layers:\n",
    "\n",
    "1. **Embedding Layer:**\n",
    "   - `Embedding(max_vocab, 128)`: Embedding layer with an input dimension of `max_vocab` (maximum vocabulary size) and an output dimension of 128. This layer converts integer-encoded words into dense vectors of fixed size.\n",
    "\n",
    "2. **Bidirectional LSTM Layers:**\n",
    "   - `Bidirectional(LSTM(64, return_sequences=True))`: Bidirectional LSTM layer with 64 units and returning sequences. This layer processes the input sequences in both forward and backward directions and outputs sequences for the next layer.\n",
    "   - `Bidirectional(LSTM(16))`: Bidirectional LSTM layer with 16 units. This layer processes the input sequences in both directions and outputs a single vector for the next layer.\n",
    "\n",
    "3. **Dense Layers:**\n",
    "   - `Dense(64, activation='relu')`: Fully connected dense layer with 64 units and ReLU activation function. ReLU (Rectified Linear Unit) introduces non-linearity into the model.\n",
    "   - `Dropout(0.5)`: Dropout layer with a dropout rate of 0.5. Dropout helps prevent overfitting by randomly dropping a fraction of input units during training.\n",
    "   - `Dense(1, activation='sigmoid')`: Output dense layer with a single unit and sigmoid activation function. Sigmoid activation is used for binary classification, producing a probability output between 0 and 1.\n",
    "\n",
    "4. **Model Summary:**\n",
    "   - `model.summary()`: Prints a summary of the model architecture, including the type and shape of each layer, the number of parameters, and the total number of trainable parameters.\n",
    "\n",
    "This model architecture consists of embedding, bidirectional LSTM, dense, and dropout layers, designed for text classification tasks.\n"
   ]
  },
  {
   "cell_type": "code",
   "execution_count": 39,
   "id": "8971b82a",
   "metadata": {},
   "outputs": [
    {
     "name": "stdout",
     "output_type": "stream",
     "text": [
      "WARNING:tensorflow:From C:\\Users\\akash\\anaconda3\\Lib\\site-packages\\keras\\src\\backend.py:873: The name tf.get_default_graph is deprecated. Please use tf.compat.v1.get_default_graph instead.\n",
      "\n",
      "Model: \"sequential\"\n",
      "_________________________________________________________________\n",
      " Layer (type)                Output Shape              Param #   \n",
      "=================================================================\n",
      " embedding (Embedding)       (None, None, 128)         1280000   \n",
      "                                                                 \n",
      " bidirectional (Bidirection  (None, None, 128)         98816     \n",
      " al)                                                             \n",
      "                                                                 \n",
      " bidirectional_1 (Bidirecti  (None, 32)                18560     \n",
      " onal)                                                           \n",
      "                                                                 \n",
      " dense (Dense)               (None, 64)                2112      \n",
      "                                                                 \n",
      " dropout (Dropout)           (None, 64)                0         \n",
      "                                                                 \n",
      " dense_1 (Dense)             (None, 1)                 65        \n",
      "                                                                 \n",
      "=================================================================\n",
      "Total params: 1399553 (5.34 MB)\n",
      "Trainable params: 1399553 (5.34 MB)\n",
      "Non-trainable params: 0 (0.00 Byte)\n",
      "_________________________________________________________________\n"
     ]
    }
   ],
   "source": [
    "model = Sequential([\n",
    "    Embedding(max_vocab, 128),\n",
    "    Bidirectional(LSTM(64, return_sequences=True)),\n",
    "    Bidirectional(LSTM(16)),\n",
    "    Dense(64, activation='relu'),\n",
    "    Dropout(0.5),\n",
    "    Dense(1, activation='sigmoid')  \n",
    "])\n",
    "\n",
    "model.summary()\n",
    "\n"
   ]
  },
  {
   "cell_type": "markdown",
   "id": "20e55a63",
   "metadata": {},
   "source": [
    "### Training of Deep Learning model using TensorFlow's Keras API\n",
    "\n",
    "This code block involves training a deep learning model using TensorFlow's Keras API. Here's a breakdown of each part:\n",
    "\n",
    "1. **Early Stopping Callback:**\n",
    "   - `early_stop = tf.keras.callbacks.EarlyStopping(monitor='val_loss', patience=1, restore_best_weights=True)`: Configures an early stopping callback. It monitors the validation loss (`val_loss`), waits for one patience epoch before stopping, and restores the best weights when stopping.\n",
    "\n",
    "2. **Compile the Model:**\n",
    "   - `model.compile()`: Configures the model for training. The parameters include:\n",
    "     - `loss=tf.keras.losses.BinaryCrossentropy(from_logits=True)`: Binary crossentropy loss is used for binary classification. `from_logits=True` indicates that the model's output is raw logits.\n",
    "     - `optimizer=tf.keras.optimizers.Adam(1e-4)`: Adam optimizer with a learning rate of 1e-4.\n",
    "     - `metrics=['accuracy']`: The accuracy metric is used to monitor the model's performance during training.\n",
    "\n",
    "3. **Model Training:**\n",
    "   - `history = model.fit(...)`: Trains the model using the training data (`x_train_pad`, `y_train`). The training is performed for 10 epochs, with a validation split of 0.1, a batch size of 30, and shuffling the data. The early stopping callback is included to stop training if the validation loss does not improve.\n",
    "\n",
    "4. **Evaluate the Model on Test Data:**\n",
    "   - `rnn_loss, rnn_accuracy = model.evaluate(x_test_pad, y_test)`: Evaluates the trained model on the test data (`x_test_pad`, `y_test`) and retrieves the loss and accuracy.\n",
    "\n",
    "5. **Print RNN Model Accuracy:**\n",
    "   - `print(f\"RNN Model Accuracy: {rnn_accuracy}\")`: Prints the accuracy of the trained model on the test data.\n",
    "\n",
    "This code demonstrates the training and evaluation process of the deep learning model for text classification, including the use of early stopping to prevent overfitting.\n"
   ]
  },
  {
   "cell_type": "code",
   "execution_count": 40,
   "id": "8f98e4bb",
   "metadata": {},
   "outputs": [
    {
     "name": "stdout",
     "output_type": "stream",
     "text": [
      "Epoch 1/30\n",
      "WARNING:tensorflow:From C:\\Users\\akash\\anaconda3\\Lib\\site-packages\\keras\\src\\utils\\tf_utils.py:492: The name tf.ragged.RaggedTensorValue is deprecated. Please use tf.compat.v1.ragged.RaggedTensorValue instead.\n",
      "\n"
     ]
    },
    {
     "name": "stderr",
     "output_type": "stream",
     "text": [
      "C:\\Users\\akash\\anaconda3\\Lib\\site-packages\\keras\\src\\backend.py:5818: UserWarning: \"`binary_crossentropy` received `from_logits=True`, but the `output` argument was produced by a Sigmoid activation and thus does not represent logits. Was this intended?\n",
      "  output, from_logits = _get_logits(\n"
     ]
    },
    {
     "name": "stdout",
     "output_type": "stream",
     "text": [
      "WARNING:tensorflow:From C:\\Users\\akash\\anaconda3\\Lib\\site-packages\\keras\\src\\engine\\base_layer_utils.py:384: The name tf.executing_eagerly_outside_functions is deprecated. Please use tf.compat.v1.executing_eagerly_outside_functions instead.\n",
      "\n",
      "152/152 [==============================] - 322s 2s/step - loss: 0.6262 - accuracy: 0.7229 - val_loss: 0.3636 - val_accuracy: 0.9486\n",
      "Epoch 2/30\n",
      "152/152 [==============================] - 373s 2s/step - loss: 0.2115 - accuracy: 0.9457 - val_loss: 0.0976 - val_accuracy: 0.9709\n",
      "Epoch 3/30\n",
      "152/152 [==============================] - 375s 2s/step - loss: 0.1053 - accuracy: 0.9745 - val_loss: 0.0738 - val_accuracy: 0.9798\n",
      "Epoch 4/30\n",
      "152/152 [==============================] - 392s 3s/step - loss: 0.0648 - accuracy: 0.9868 - val_loss: 0.0657 - val_accuracy: 0.9825\n",
      "Epoch 5/30\n",
      "152/152 [==============================] - 338s 2s/step - loss: 0.0466 - accuracy: 0.9914 - val_loss: 0.0455 - val_accuracy: 0.9884\n",
      "Epoch 6/30\n",
      "152/152 [==============================] - 312s 2s/step - loss: 0.0322 - accuracy: 0.9946 - val_loss: 0.0381 - val_accuracy: 0.9893\n",
      "Epoch 7/30\n",
      "152/152 [==============================] - 321s 2s/step - loss: 0.0248 - accuracy: 0.9959 - val_loss: 0.0464 - val_accuracy: 0.9881\n",
      "351/351 [==============================] - 26s 75ms/step - loss: 0.0485 - accuracy: 0.9881\n",
      "RNN Model Accuracy: 0.988057017326355\n"
     ]
    }
   ],
   "source": [
    "early_stop = tf.keras.callbacks.EarlyStopping(monitor='val_loss', \n",
    "                                              patience=1, \n",
    "                                              restore_best_weights=True)\n",
    "\n",
    "model.compile(loss=tf.keras.losses.BinaryCrossentropy(from_logits=True),\n",
    "              optimizer=tf.keras.optimizers.Adam(1e-4),\n",
    "              metrics=['accuracy'])\n",
    "\n",
    "history = model.fit(x_train_pad, y_train, \n",
    "                    epochs=30, \n",
    "                    validation_split=0.1, \n",
    "                    batch_size=200, \n",
    "                    shuffle=True, \n",
    "                    callbacks=[early_stop])\n",
    "\n",
    "# Evaluate RNN model\n",
    "rnn_loss, rnn_accuracy = model.evaluate(x_test_pad, y_test)\n",
    "\n",
    "print(f\"RNN Model Accuracy: {rnn_accuracy}\")\n",
    "\n",
    "\n",
    "\n"
   ]
  },
  {
   "cell_type": "markdown",
   "id": "9b75bafb",
   "metadata": {},
   "source": [
    "### Predict_rnn Function\n",
    "\n",
    "This code defines a function `predict_rnn(news)` that takes a news article as input and predicts its sentiment using the trained deep learning model. Here's the breakdown of the function:\n",
    "\n",
    "1. **Import pandas:**\n",
    "   - `import pandas as pd`: Imports the pandas library for data manipulation.\n",
    "\n",
    "2. **Define `predict_rnn` Function:**\n",
    "   - `def predict_rnn(news):`: Defines a function named `predict_rnn` that takes a single argument `news`, representing the news article to be predicted.\n",
    "\n",
    "3. **Tokenize and Pad the Input News:**\n",
    "   - `new_seq = tokenizer.texts_to_sequences([news])`: Tokenizes the input news article (`news`) using the tokenizer object (`tokenizer`). The article is converted into a sequence of integer indices.\n",
    "   - `padded_seq = pad_sequences(new_seq, padding='post', maxlen=256)`: Pads the tokenized sequence (`new_seq`) to ensure a fixed length of 256 tokens. This is done to match the input shape expected by the deep learning model.\n",
    "\n",
    "4. **Make Prediction:**\n",
    "   - `prediction = model.predict(padded_seq)`: Uses the trained deep learning model (`model`) to predict the sentiment of the padded sequence (`padded_seq`). The prediction is stored in the variable `prediction`.\n",
    "\n",
    "5. **Return Prediction:**\n",
    "   - `return int(prediction[0][0])`: Returns the predicted sentiment as an integer value. Since the model outputs probabilities, the predicted probability of sentiment is converted to an integer representing the sentiment class (e.g., 0 for negative sentiment, 1 for positive sentiment).\n",
    "\n",
    "This function encapsulates the process of predicting the sentiment of a news article using the trained deep learning model, making it easier to perform predictions on new data.\n"
   ]
  },
  {
   "cell_type": "code",
   "execution_count": 41,
   "id": "8b97a7b8",
   "metadata": {},
   "outputs": [],
   "source": [
    "import pandas as pd\n",
    "\n",
    "def predict_rnn(news):\n",
    "    new_seq = tokenizer.texts_to_sequences([news])\n",
    "    padded_seq = pad_sequences(new_seq, padding='post', maxlen=256)\n",
    "    prediction = model.predict(padded_seq)\n",
    "    return int(prediction[0][0])\n"
   ]
  },
  {
   "cell_type": "markdown",
   "id": "dad46f4d",
   "metadata": {},
   "source": [
    "### RNN Evaluation\n",
    "\n",
    "This code segment involves plotting the training and validation loss, as well as the training and validation accuracy over epochs during the model training process. Here's a breakdown of each part:\n",
    "\n",
    "1. **Plot Training and Validation Loss:**\n",
    "   - `plt.plot(history.history['loss'], label='Training Loss')`: Plots the training loss values stored in the `history` object over epochs and labels it as \"Training Loss\".\n",
    "   - `plt.plot(history.history['val_loss'], label='Validation Loss')`: Plots the validation loss values stored in the `history` object over epochs and labels it as \"Validation Loss\".\n",
    "   - `plt.title('Training and Validation Loss')`: Sets the title of the plot as \"Training and Validation Loss\".\n",
    "   - `plt.xlabel('Epoch')`: Labels the x-axis as \"Epoch\".\n",
    "   - `plt.ylabel('Loss')`: Labels the y-axis as \"Loss\".\n",
    "   - `plt.legend()`: Displays a legend to differentiate between training and validation loss lines.\n",
    "   - `plt.show()`: Shows the plot.\n",
    "\n",
    "2. **Plot Training and Validation Accuracy:**\n",
    "   - `plt.plot(history.history['accuracy'], label='Training Accuracy')`: Plots the training accuracy values stored in the `history` object over epochs and labels it as \"Training Accuracy\".\n",
    "   - `plt.plot(history.history['val_accuracy'], label='Validation Accuracy')`: Plots the validation accuracy values stored in the `history` object over epochs and labels it as \"Validation Accuracy\".\n",
    "   - `plt.title('Training and Validation Accuracy')`: Sets the title of the plot as \"Training and Validation Accuracy\".\n",
    "   - `plt.xlabel('Epoch')`: Labels the x-axis as \"Epoch\".\n",
    "   - `plt.ylabel('Accuracy')`: Labels the y-axis as \"Accuracy\".\n",
    "   - `plt.legend()`: Displays a legend to differentiate between training and validation accuracy lines.\n",
    "   - `plt.show()`: Shows the plot.\n",
    "\n",
    "These plots provide insights into the training process of the deep learning model, showing how the loss and accuracy metrics change over epochs for both the training and validation datasets.\n"
   ]
  },
  {
   "cell_type": "code",
   "execution_count": 42,
   "id": "ddffae91",
   "metadata": {},
   "outputs": [
    {
     "data": {
      "image/png": "[encoded data removed]",
      "text/plain": [
       "<Figure size 640x480 with 1 Axes>"
      ]
     },
     "metadata": {},
     "output_type": "display_data"
    },
    {
     "data": {
      "image/png": "[encoded data removed]",
      "text/plain": [
       "<Figure size 640x480 with 1 Axes>"
      ]
     },
     "metadata": {},
     "output_type": "display_data"
    }
   ],
   "source": [
    "import matplotlib.pyplot as plt\n",
    "\n",
    "# Plot training and validation loss\n",
    "plt.plot(history.history['loss'], label='Training Loss')\n",
    "plt.plot(history.history['val_loss'], label='Validation Loss')\n",
    "plt.title('Training and Validation Loss')\n",
    "plt.xlabel('Epoch')\n",
    "plt.ylabel('Loss')\n",
    "plt.legend()\n",
    "plt.show()\n",
    "\n",
    "# Plot training and validation accuracy\n",
    "plt.plot(history.history['accuracy'], label='Training Accuracy')\n",
    "plt.plot(history.history['val_accuracy'], label='Validation Accuracy')\n",
    "plt.title('Training and Validation Accuracy')\n",
    "plt.xlabel('Epoch')\n",
    "plt.ylabel('Accuracy')\n",
    "plt.legend()\n",
    "plt.show()\n"
   ]
  },
  {
   "cell_type": "markdown",
   "id": "429ae68f",
   "metadata": {},
   "source": [
    "## BERT Model"
   ]
  },
  {
   "cell_type": "markdown",
   "id": "7cfb366f",
   "metadata": {},
   "source": [
    "### Importing Libraries\n",
    "\n",
    "This code block imports various libraries and modules necessary for text preprocessing, machine learning model training, evaluation, and visualization. Here's a breakdown of each import statement:\n",
    "\n",
    "1. **Text Preprocessing Libraries:**\n",
    "   - `import string`: Imports the `string` module for string manipulation, including operations on characters and punctuation.\n",
    "   - `import re`: Imports the `re` module for regular expressions, used for text cleaning and pattern matching.\n",
    "   - `from nltk.corpus import stopwords`: Imports the `stopwords` corpus from NLTK, which contains common English stopwords.\n",
    "   - `from nltk.tokenize import word_tokenize`: Imports the `word_tokenize` function from NLTK, used for tokenizing text into words.\n",
    "   - `from nltk.stem import WordNetLemmatizer`: Imports the `WordNetLemmatizer` class from NLTK, used for lemmatization of words.\n",
    "\n",
    "2. **Machine Learning and Transformers Libraries:**\n",
    "   - `from sklearn.model_selection import train_test_split`: Imports the `train_test_split` function from scikit-learn, used for splitting data into training and testing sets.\n",
    "   - `from sklearn.metrics import accuracy_score`: Imports the `accuracy_score` function from scikit-learn, used for evaluating model accuracy.\n",
    "   - `from transformers import BertTokenizer, BertForSequenceClassification, Trainer, TrainingArguments`: Imports various classes and functions from the Transformers library for natural language processing tasks. Specifically, it imports classes related to BERT model, tokenizer, trainer, and training arguments.\n",
    "\n",
    "3. **Other Libraries:**\n",
    "   - `import torch`: Imports the PyTorch library, used for tensor computations and deep learning.\n",
    "   - `import pandas as pd`: Imports the pandas library for data manipulation and analysis.\n",
    "   - `import time`: Imports the `time` module for measuring time duration during code execution.\n",
    "   - `from transformers.trainer_callback import TrainerCallback`: Imports the `TrainerCallback` class from Transformers library for defining custom callbacks during training.\n",
    "   - `import matplotlib.pyplot as plt`: Imports the `matplotlib.pyplot` module for plotting graphs and visualizations.\n",
    "   - `import numpy as np`: Imports the NumPy library for numerical computations.\n",
    "\n",
    "These libraries and modules provide the necessary functionality for text preprocessing, model training, evaluation, and visualization in natural language processing tasks.\n"
   ]
  },
  {
   "cell_type": "code",
   "execution_count": 43,
   "id": "310de399",
   "metadata": {},
   "outputs": [],
   "source": [
    "import string\n",
    "import re\n",
    "from nltk.corpus import stopwords\n",
    "from nltk.tokenize import word_tokenize\n",
    "from nltk.stem import WordNetLemmatizer\n",
    "from sklearn.model_selection import train_test_split\n",
    "from sklearn.metrics import accuracy_score\n",
    "from transformers import BertTokenizer, BertForSequenceClassification, Trainer, TrainingArguments\n",
    "import torch\n",
    "import pandas as pd\n",
    "import time\n",
    "from transformers.trainer_callback import TrainerCallback\n",
    "import matplotlib.pyplot as plt\n",
    "import numpy as np"
   ]
  },
  {
   "cell_type": "markdown",
   "id": "727121cc",
   "metadata": {},
   "source": [
    "### BERT model\n",
    "\n",
    "This code block performs the following tasks:\n",
    "\n",
    "1. **Preprocess the Text Data:**\n",
    "   - The text data in the 'text' column of the dataframe `data` is preprocessed using the `preprocess_text` function, which was defined earlier. The preprocessing involves converting text to lowercase, removing special characters, URLs, HTML tags, punctuation, stop words, and lemmatization.\n",
    "\n",
    "2. **Split the Dataset into Train and Test Sets with a Sample Size:**\n",
    "   - Randomly samples `sample_size` rows from the preprocessed data (`data`) to create a smaller dataset named `sampled_data`.\n",
    "   - Splits the sampled data into training and testing sets (`x_train`, `x_test`, `y_train`, `y_test`) using `train_test_split` from scikit-learn.\n",
    "\n",
    "3. **Define the BERT Tokenizer and Model:**\n",
    "   - Initializes the BERT tokenizer and model using `BertTokenizer.from_pretrained` and `BertForSequenceClassification.from_pretrained` from the Transformers library, respectively.\n",
    "\n",
    "4. **Tokenize the Text Data:**\n",
    "   - Tokenizes the text data (`x_train` and `x_test`) using the BERT tokenizer, specifying truncation and padding to ensure uniform length.\n",
    "\n",
    "5. **Prepare the Datasets:**\n",
    "   - Defines a custom dataset class `NewsDataset` to prepare the training and testing datasets with encoded inputs and labels.\n",
    "\n",
    "6. **Training Arguments:**\n",
    "   - Defines training arguments with minimal settings using `TrainingArguments`, specifying the output directory, number of training epochs, batch sizes, warmup steps, and logging settings.\n",
    "\n",
    "7. **Define Custom Training Progress Callback:**\n",
    "   - Defines a custom callback class `TrainingProgressCallback` to log training progress during training.\n",
    "\n",
    "8. **Trainer Initialization:**\n",
    "   - Initializes a Trainer object `trainer` with the BERT model, training arguments, train dataset, evaluation dataset, and custom callback.\n",
    "\n",
    "9. **Training the Model:**\n",
    "   - Trains the BERT model using the Trainer object `trainer`.\n",
    "\n",
    "10. **Measure Training and Evaluation Time:**\n",
    "    - Measures the time taken for training and evaluation.\n",
    "\n",
    "11. **Evaluate Model Accuracy:**\n",
    "    - Calculates the accuracy of the trained BERT model on the test dataset.\n",
    "\n",
    "12. **Print Results:**\n",
    "    - Prints the accuracy, training time, and evaluation time.\n",
    "\n",
    "This code demonstrates the process of preprocessing text data, training a BERT model for sequence classification, and evaluating its performance.\n"
   ]
  },
  {
   "cell_type": "code",
   "execution_count": 44,
   "id": "c01e9897",
   "metadata": {},
   "outputs": [
    {
     "name": "stderr",
     "output_type": "stream",
     "text": [
      "Some weights of BertForSequenceClassification were not initialized from the model checkpoint at bert-base-uncased and are newly initialized: ['classifier.bias', 'classifier.weight']\n",
      "You should probably TRAIN this model on a down-stream task to be able to use it for predictions and inference.\n"
     ]
    },
    {
     "name": "stdout",
     "output_type": "stream",
     "text": [
      "Training started...\n"
     ]
    },
    {
     "data": {
      "text/html": [
       "\n",
       "    <div>\n",
       "      \n",
       "      <progress value='190' max='190' style='width:300px; height:20px; vertical-align: middle;'></progress>\n",
       "      [190/190 1:43:47, Epoch 5/5]\n",
       "    </div>\n",
       "    <table border=\"1\" class=\"dataframe\">\n",
       "  <thead>\n",
       " <tr style=\"text-align: left;\">\n",
       "      <th>Step</th>\n",
       "      <th>Training Loss</th>\n",
       "    </tr>\n",
       "  </thead>\n",
       "  <tbody>\n",
       "    <tr>\n",
       "      <td>5</td>\n",
       "      <td>0.710900</td>\n",
       "    </tr>\n",
       "    <tr>\n",
       "      <td>10</td>\n",
       "      <td>0.642600</td>\n",
       "    </tr>\n",
       "    <tr>\n",
       "      <td>15</td>\n",
       "      <td>0.554500</td>\n",
       "    </tr>\n",
       "    <tr>\n",
       "      <td>20</td>\n",
       "      <td>0.468700</td>\n",
       "    </tr>\n",
       "    <tr>\n",
       "      <td>25</td>\n",
       "      <td>0.299300</td>\n",
       "    </tr>\n",
       "    <tr>\n",
       "      <td>30</td>\n",
       "      <td>0.308100</td>\n",
       "    </tr>\n",
       "    <tr>\n",
       "      <td>35</td>\n",
       "      <td>0.133900</td>\n",
       "    </tr>\n",
       "    <tr>\n",
       "      <td>40</td>\n",
       "      <td>0.101800</td>\n",
       "    </tr>\n",
       "    <tr>\n",
       "      <td>45</td>\n",
       "      <td>0.071400</td>\n",
       "    </tr>\n",
       "    <tr>\n",
       "      <td>50</td>\n",
       "      <td>0.097000</td>\n",
       "    </tr>\n",
       "    <tr>\n",
       "      <td>55</td>\n",
       "      <td>0.113900</td>\n",
       "    </tr>\n",
       "    <tr>\n",
       "      <td>60</td>\n",
       "      <td>0.005600</td>\n",
       "    </tr>\n",
       "    <tr>\n",
       "      <td>65</td>\n",
       "      <td>0.005000</td>\n",
       "    </tr>\n",
       "    <tr>\n",
       "      <td>70</td>\n",
       "      <td>0.002700</td>\n",
       "    </tr>\n",
       "    <tr>\n",
       "      <td>75</td>\n",
       "      <td>0.001700</td>\n",
       "    </tr>\n",
       "    <tr>\n",
       "      <td>80</td>\n",
       "      <td>0.001700</td>\n",
       "    </tr>\n",
       "    <tr>\n",
       "      <td>85</td>\n",
       "      <td>0.001700</td>\n",
       "    </tr>\n",
       "    <tr>\n",
       "      <td>90</td>\n",
       "      <td>0.001000</td>\n",
       "    </tr>\n",
       "    <tr>\n",
       "      <td>95</td>\n",
       "      <td>0.000900</td>\n",
       "    </tr>\n",
       "    <tr>\n",
       "      <td>100</td>\n",
       "      <td>0.000800</td>\n",
       "    </tr>\n",
       "    <tr>\n",
       "      <td>105</td>\n",
       "      <td>0.000800</td>\n",
       "    </tr>\n",
       "    <tr>\n",
       "      <td>110</td>\n",
       "      <td>0.003100</td>\n",
       "    </tr>\n",
       "    <tr>\n",
       "      <td>115</td>\n",
       "      <td>0.000600</td>\n",
       "    </tr>\n",
       "    <tr>\n",
       "      <td>120</td>\n",
       "      <td>0.000600</td>\n",
       "    </tr>\n",
       "    <tr>\n",
       "      <td>125</td>\n",
       "      <td>0.047400</td>\n",
       "    </tr>\n",
       "    <tr>\n",
       "      <td>130</td>\n",
       "      <td>0.000500</td>\n",
       "    </tr>\n",
       "    <tr>\n",
       "      <td>135</td>\n",
       "      <td>0.000500</td>\n",
       "    </tr>\n",
       "    <tr>\n",
       "      <td>140</td>\n",
       "      <td>0.000500</td>\n",
       "    </tr>\n",
       "    <tr>\n",
       "      <td>145</td>\n",
       "      <td>0.000500</td>\n",
       "    </tr>\n",
       "    <tr>\n",
       "      <td>150</td>\n",
       "      <td>0.000600</td>\n",
       "    </tr>\n",
       "    <tr>\n",
       "      <td>155</td>\n",
       "      <td>0.000600</td>\n",
       "    </tr>\n",
       "    <tr>\n",
       "      <td>160</td>\n",
       "      <td>0.000400</td>\n",
       "    </tr>\n",
       "    <tr>\n",
       "      <td>165</td>\n",
       "      <td>0.000500</td>\n",
       "    </tr>\n",
       "    <tr>\n",
       "      <td>170</td>\n",
       "      <td>0.000400</td>\n",
       "    </tr>\n",
       "    <tr>\n",
       "      <td>175</td>\n",
       "      <td>0.000400</td>\n",
       "    </tr>\n",
       "    <tr>\n",
       "      <td>180</td>\n",
       "      <td>0.000400</td>\n",
       "    </tr>\n",
       "    <tr>\n",
       "      <td>185</td>\n",
       "      <td>0.000400</td>\n",
       "    </tr>\n",
       "    <tr>\n",
       "      <td>190</td>\n",
       "      <td>0.000400</td>\n",
       "    </tr>\n",
       "  </tbody>\n",
       "</table><p>"
      ],
      "text/plain": [
       "<IPython.core.display.HTML object>"
      ]
     },
     "metadata": {},
     "output_type": "display_data"
    },
    {
     "data": {
      "text/html": [],
      "text/plain": [
       "<IPython.core.display.HTML object>"
      ]
     },
     "metadata": {},
     "output_type": "display_data"
    },
    {
     "name": "stdout",
     "output_type": "stream",
     "text": [
      "Accuracy: 1.0\n",
      "Evaluation Time: 229.465567111969 seconds\n"
     ]
    }
   ],
   "source": [
    "# Preprocess the text data\n",
    "data['text'] = data['text'].apply(preprocess_text)\n",
    "\n",
    "# Split the dataset into train and test \n",
    "sample_size = 500  \n",
    "sampled_data = data.sample(n=sample_size, random_state=42)  \n",
    "\n",
    "x = sampled_data['text']\n",
    "y = sampled_data['class']\n",
    "x_train, x_test, y_train, y_test = train_test_split(x, y, test_size=0.25)\n",
    "\n",
    "# Define the BERT tokenizer and model\n",
    "tokenizer = BertTokenizer.from_pretrained('bert-base-uncased')\n",
    "model = BertForSequenceClassification.from_pretrained('bert-base-uncased')\n",
    "\n",
    "# Tokenize the text data\n",
    "train_encodings = tokenizer(x_train.tolist(), truncation=True, padding=True)\n",
    "test_encodings = tokenizer(x_test.tolist(), truncation=True, padding=True)\n",
    "\n",
    "# Prepare the datasets\n",
    "class NewsDataset(torch.utils.data.Dataset):\n",
    "    def __init__(self, encodings, labels):\n",
    "        self.encodings = encodings\n",
    "        self.labels = labels\n",
    "\n",
    "    def __getitem__(self, idx):\n",
    "        item = {key: torch.tensor(val[idx]) for key, val in self.encodings.items()}\n",
    "        item['labels'] = torch.tensor(self.labels[idx])\n",
    "        return item\n",
    "\n",
    "    def __len__(self):\n",
    "        return len(self.labels)\n",
    "\n",
    "# Create train and test datasets using encoded inputs and labels\n",
    "train_dataset = NewsDataset(train_encodings, y_train.tolist())\n",
    "test_dataset = NewsDataset(test_encodings, y_test.tolist())\n",
    "\n",
    "# Training arguments with minimal settings\n",
    "training_args = TrainingArguments(\n",
    "    output_dir='./results',\n",
    "    num_train_epochs=5,  \n",
    "    per_device_train_batch_size=10,  \n",
    "    per_device_eval_batch_size=10,  \n",
    "    warmup_steps=30,  \n",
    "    logging_dir='./logs',\n",
    "    logging_steps= 5  \n",
    ")\n",
    "\n",
    "# Define a custom callback to log training progress\n",
    "# Define a custom callback to log training progress\n",
    "class TrainingProgressCallback(TrainerCallback):\n",
    "    def __init__(self):\n",
    "        super().__init__()\n",
    "        self.train_loss_values = []\n",
    "\n",
    "    def on_train_begin(self, args, state, control, **kwargs):\n",
    "        print(\"Training started...\")\n",
    "\n",
    "    def on_train_batch_end(self, args, state, control, **kwargs):\n",
    "        # Log training loss\n",
    "        if 'loss' in state.log_history[-1]:\n",
    "            loss = state.log_history[-1]['loss']\n",
    "            self.train_loss_values.append(loss)\n",
    "            if state.global_step % args.logging_steps == 0:\n",
    "                print(f\"Step {state.global_step}/{args.num_train_steps}, Loss: {loss:.4f}\")\n",
    "\n",
    "\n",
    "\n",
    "# Trainer to train the model with the adjusted settings and data\n",
    "trainer = Trainer(\n",
    "    model=model,\n",
    "    args=training_args,\n",
    "    train_dataset=train_dataset,\n",
    "    eval_dataset=test_dataset,\n",
    "    callbacks=[TrainingProgressCallback()]\n",
    ")\n",
    "\n",
    "# Measure time taken for training\n",
    "start_time = time.time()\n",
    "trainer.train()\n",
    "training_time = time.time() - start_time\n",
    "\n",
    "# Measure time taken for evaluation\n",
    "start_time = time.time()\n",
    "predictions = trainer.predict(test_dataset)\n",
    "eval_time = time.time() - start_time\n",
    "\n",
    "pred_labels = predictions.predictions.argmax(-1)\n",
    "accuracy = accuracy_score(y_test, pred_labels)\n",
    "print(f\"Accuracy: {accuracy}\")\n",
    "print(f\"Evaluation Time: {eval_time} seconds\")\n",
    "\n",
    "\n",
    "\n"
   ]
  },
  {
   "cell_type": "code",
   "execution_count": 45,
   "id": "eaa5de0b",
   "metadata": {},
   "outputs": [
    {
     "data": {
      "image/png": "[encoded data removed]",
      "text/plain": [
       "<Figure size 800x600 with 2 Axes>"
      ]
     },
     "metadata": {},
     "output_type": "display_data"
    },
    {
     "data": {
      "image/png": "[encoded data removed]",
      "text/plain": [
       "<Figure size 640x480 with 1 Axes>"
      ]
     },
     "metadata": {},
     "output_type": "display_data"
    }
   ],
   "source": [
    "# Plot confusion matrix\n",
    "from sklearn.metrics import confusion_matrix\n",
    "import seaborn as sns\n",
    "\n",
    "cm = confusion_matrix(y_test, pred_labels)\n",
    "plt.figure(figsize=(8, 6))\n",
    "sns.heatmap(cm, annot=True, fmt='d', cmap='Blues', xticklabels=['Negative', 'Positive'], yticklabels=['Negative', 'Positive'])\n",
    "plt.xlabel('Predicted')\n",
    "plt.ylabel('Actual')\n",
    "plt.title('Confusion Matrix')\n",
    "plt.show()\n",
    "\n",
    "# Plot ROC curve\n",
    "from sklearn.metrics import roc_curve, auc\n",
    "\n",
    "fpr, tpr, thresholds = roc_curve(y_test, pred_labels)\n",
    "roc_auc = auc(fpr, tpr)\n",
    "\n",
    "plt.figure()\n",
    "plt.plot(fpr, tpr, color='darkorange', lw=2, label='ROC curve (area = %0.2f)' % roc_auc)\n",
    "plt.plot([0, 1], [0, 1], color='navy', lw=2, linestyle='--')\n",
    "plt.xlim([0.0, 1.0])\n",
    "plt.ylim([0.0, 1.05])\n",
    "plt.xlabel('False Positive Rate')\n",
    "plt.ylabel('True Positive Rate')\n",
    "plt.title('Receiver Operating Characteristic')\n",
    "plt.legend(loc='lower right')\n",
    "plt.show()\n",
    "\n"
   ]
  },
  {
   "cell_type": "markdown",
   "id": "2970a597",
   "metadata": {},
   "source": [
    "## Confidence Score Generator"
   ]
  },
  {
   "cell_type": "markdown",
   "id": "151f86e1",
   "metadata": {},
   "source": [
    "### Confidence score generator with news input\n",
    "\n",
    "This code defines a function `fakenewsdetection(news)` for detecting fake news using multiple machine learning models, including Logistic Regression, Decision Tree, Gradient Boosting, Random Forest, a custom RNN model, and a BERT model. Here's a breakdown of the function:\n",
    "\n",
    "1. **Output Label Function:**\n",
    "   - `output_label(n)`: Defines a function to convert model predictions (0 or 1) into human-readable labels indicating whether the news is fake or not.\n",
    "\n",
    "2. **Fakenewsdetection Function:**\n",
    "   - `fakenewsdetection(news)`: Takes a news article as input and performs the following steps:\n",
    "     - Preprocesses the input news text using the `preprocess_text` function.\n",
    "     - Tokenizes the preprocessed news text using the BERT tokenizer.\n",
    "     - Makes predictions using Logistic Regression, Decision Tree, Gradient Boosting, Random Forest, a custom RNN model, and a BERT model.\n",
    "     - Aggregates predictions from all models and calculates a confidence score based on the percentage of models agreeing on the prediction.\n",
    "     - Outputs the predictions and confidence score.\n",
    "\n",
    "3. **User Input:**\n",
    "   - Prompts the user to input a news article.\n",
    "\n",
    "4. **Call to Fakenewsdetection Function:**\n",
    "   - Calls the `fakenewsdetection` function with the user input news article.\n",
    "\n",
    "This function integrates multiple machine learning models to provide predictions on whether the input news article is fake or not, along with a confidence score based on model agreement.\n"
   ]
  },
  {
   "cell_type": "code",
   "execution_count": 47,
   "id": "b277bc4f",
   "metadata": {},
   "outputs": [
    {
     "name": "stdout",
     "output_type": "stream",
     "text": [
      "Please paste your news here: Trump is president\n",
      "\n",
      "\n",
      "LR Prediction: This is a fake news\n",
      "DT Prediction: This is a fake news\n",
      "GB Prediction: This is a fake news\n",
      "RF Prediction: This is a fake news\n",
      "RNN Prediction: This is not a fake news\n",
      "BERT Prediction: This is a fake news\n",
      "Confidence Score (Based on models agreeing): 83.33%\n"
     ]
    }
   ],
   "source": [
    "def output_label(n):\n",
    "    if n == 0:\n",
    "        return \"This is a fake news\"\n",
    "    elif n == 1:\n",
    "        return \"This is not a fake news\"\n",
    "\n",
    "\n",
    "# Define the fakenewsdetection function\n",
    "def fakenewsdetection(news):\n",
    "    # Preprocess the input news text\n",
    "    processed_news = preprocess_text(news)\n",
    "    \n",
    "    # Tokenize the input news text using BERT tokenizer\n",
    "    inputs = tokenizer(processed_news, return_tensors=\"pt\", max_length=256, truncation=True)\n",
    "    \n",
    "    # Predictions using Logistic Regression\n",
    "    pred_lr = LR_model.predict(vectorization.transform([processed_news]))[0]\n",
    "    \n",
    "    # Predictions using Decision Tree\n",
    "    pred_dt = DT_model.predict(vectorization.transform([processed_news]))[0]\n",
    "    \n",
    "    # Predictions using Gradient Boosting\n",
    "    pred_gb = GB_model.predict(vectorization.transform([processed_news]))[0]\n",
    "    \n",
    "    # Predictions using Random Forest\n",
    "    pred_rf = RF_model.predict(vectorization.transform([processed_news]))[0]\n",
    "    \n",
    "    # Predictions using RNN model\n",
    "    rnn_pred = model(inputs.input_ids)[0][0].detach().cpu().numpy()\n",
    "    pred_rnn = 1 if any(rnn_pred >= 0.5) else 0\n",
    "    \n",
    "    # Predictions using BERT model\n",
    "    with torch.no_grad():\n",
    "        bert_outputs = model(**inputs)\n",
    "    bert_probabilities = torch.softmax(bert_outputs.logits, dim=1)\n",
    "    bert_pred = torch.argmax(bert_probabilities, dim=1).item()\n",
    "    \n",
    "    # Aggregate predictions\n",
    "    predictions = [pred_lr, pred_dt, pred_gb, pred_rf, pred_rnn, bert_pred]\n",
    "    \n",
    "    # Calculate confidence score\n",
    "    fake_count = predictions.count(0)\n",
    "    not_fake_count = predictions.count(1)\n",
    "    confidence_score = max(fake_count, not_fake_count) / len(predictions) * 100\n",
    "    \n",
    "    # Output predictions\n",
    "    print(\"\\n\\nLR Prediction: {}\\nDT Prediction: {}\\nGB Prediction: {}\\nRF Prediction: {}\\nRNN Prediction: {}\\nBERT Prediction: {}\".format(\n",
    "        output_label(pred_lr),\n",
    "        output_label(pred_dt),\n",
    "        output_label(pred_gb),\n",
    "        output_label(pred_rf),\n",
    "        output_label(pred_rnn),\n",
    "        output_label(bert_pred)\n",
    "    ))\n",
    "\n",
    "    print(\"Confidence Score (Based on models agreeing): {:.2f}%\".format(confidence_score))\n",
    "\n",
    "# Get user input\n",
    "user_input = input(\"Please paste your news here: \")\n",
    "\n",
    "# Call the fakenewsdetection function with user input\n",
    "fakenewsdetection(user_input)\n",
    "\n",
    "\n",
    "\n"
   ]
  },
  {
   "cell_type": "code",
   "execution_count": null,
   "id": "f0ccf143",
   "metadata": {},
   "outputs": [],
   "source": []
  }
 ],
 "metadata": {
  "kernelspec": {
   "display_name": "Python 3 (ipykernel)",
   "language": "python",
   "name": "python3"
  },
  "language_info": {
   "codemirror_mode": {
    "name": "ipython",
    "version": 3
   },
   "file_extension": ".py",
   "mimetype": "text/x-python",
   "name": "python",
   "nbconvert_exporter": "python",
   "pygments_lexer": "ipython3",
   "version": "3.11.5"
  }
 },
 "nbformat": 4,
 "nbformat_minor": 5
}
